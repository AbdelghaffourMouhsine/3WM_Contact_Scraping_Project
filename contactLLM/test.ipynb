{
 "cells": [
  {
   "cell_type": "code",
   "execution_count": 1,
   "id": "0e28bc82-644c-4e1f-b4c5-3e5eda53a8ab",
   "metadata": {},
   "outputs": [
    {
     "name": "stdout",
     "output_type": "stream",
     "text": [
      "Start get_source_page_from_url\n",
      "Execution time of get_source_page_from_url : 8.742972 seconds\n",
      "number of words in the source_page : 11059\n",
      "number of characters in the source_page : 261627\n",
      "----------------------------------------------------------------------------------------------------\n",
      "Start get_clean_html_from_source_page\n",
      "-----------> Vider le contenu de la balise <head>: -3787 deleted words\n",
      "-----------> supprimer les commentaires : -159 deleted words\n",
      "-----------> Supprimer les balises avec leur contenu : script, noscript, style, ul, form, table, footer :  -886 deleted words\n",
      "-----------> Sélection et filtrer de toutes les balises <a>: -2125 deleted words\n",
      "Execution time of get_clean_html_from_source_page : 0.451946 seconds\n",
      "number of words in the clean_html : 929\n",
      "number of characters in the clean_html : 8118\n",
      "----------------------------------------------------------------------------------------------------\n"
     ]
    },
    {
     "data": {
      "text/plain": [
       "'\\n\\n\\n\\n\\n\\n\\n\\n\\n\\n\\n\\n\\n\\n\\n\\n\\n\\n\\n\\n\\n\\n\\n\\n\\n\\n\\n\\n\\n\\n\\n\\n\\n\\n\\n\\n\\n\\n\\n\\n\\n\\n\\n\\n\\n\\n\\n\\n\\n\\n\\n\\n\\n\\n\\n\\n\\n\\n\\n\\n\\n\\n\\n\\n\\n\\n\\n\\n\\n\\n\\n\\n\\n\\n\\n\\n\\n\\n\\n\\n\\n\\n\\n\\n\\n\\n\\n\\n\\n\\n\\n\\n\\n\\n\\n\\n\\n\\n\\n\\n\\n\\n\\n\\n\\n\\n\\n\\n\\n\\n\\n\\n\\nGo\\n\\n\\n\\n\\n\\n\\n\\n\\n\\n\\n\\n\\n\\n\\n\\nTrending\\n\\n\\n\\n\\n\\n\\n\\n\\n\\n\\n\\n\\n\\n\\n\\n\\n\\n\\n\\n\\n\\n\\n\\n\\n\\n\\n\\n\\n\\n\\n\\n\\n\\n\\n\\n\\n\\n\\n\\n\\n\\n\\n\\n\\n\\n\\n\\n\\n\\n\\n\\n\\n\\n\\n\\n\\n\\n\\n\\n\\n\\n\\n\\n\\n\\n\\n\\n\\n\\n\\n\\n\\n\\n\\n\\n\\n\\n\\n\\n\\n\\n\\n\\n\\n\\n\\n\\n\\n\\n\\n\\n\\n\\n\\n\\n\\n\\n\\n\\n\\n\\n\\n\\n\\n\\n\\n\\n\\n\\n\\n\\n\\n\\n\\n\\n\\n\\n\\n\\n\\n\\n\\n\\n\\n\\n\\n\\n\\n\\n\\n\\n\\n\\n\\n\\n\\n\\n\\n\\n\\n\\n\\n\\n\\n\\n\\n\\n\\n\\n\\n\\n\\n\\n\\n\\n\\n\\n\\n\\n\\n\\n\\n\\n\\n\\n\\n\\n\\n\\n\\n\\n\\n\\n\\n\\n\\n\\n\\n\\n\\n\\n\\n\\n\\n\\n\\n\\n\\n\\n\\n\\n\\n\\n\\n\\n\\n\\n\\n\\n\\n\\n\\n\\n\\n\\n\\n\\n\\n\\n\\n\\n\\n\\n\\n\\n\\n\\n\\n\\n\\n\\n\\n\\n\\n\\n\\n\\n\\n\\n\\n\\n\\n\\n\\n\\n\\n\\n\\n\\n\\n\\n\\n\\n\\n\\n\\n\\n\\n\\n\\n\\n\\n\\n\\n\\n\\n\\n\\n\\n\\n\\n\\n\\n\\n\\n\\n\\n\\n\\n\\n\\n\\n\\n\\n\\n\\n\\n\\n\\n\\n\\n\\n\\n\\n\\n\\n\\n\\n\\n\\n\\n\\n\\n\\n\\n\\n\\n\\n\\n\\n\\n\\n\\n\\n\\n\\n\\n\\n\\n\\n\\n\\n\\n\\n\\n\\n\\n\\n\\n\\n\\n\\n\\n\\n\\n\\n\\n\\n\\n\\n\\n\\n\\n\\n\\n\\n\\n\\n\\n\\n\\n\\n\\n\\n\\n\\n\\n\\n\\n\\n\\n\\n\\n\\n\\n\\n\\n\\n\\n\\n\\n\\n\\n\\n\\n\\n\\n\\n\\n\\n\\n\\n\\n\\n\\n\\n\\n\\n\\n\\n\\n\\n\\n\\n\\n\\n\\n\\n\\n\\n\\n\\n\\n\\n\\n\\n\\n\\n\\n\\n\\n\\n\\n\\n\\n\\n\\n\\n\\n\\n\\n\\n\\n\\n\\n\\n\\n\\n\\n\\n\\n\\n\\n\\n\\n\\n\\n\\n\\n\\n\\n\\n\\n\\n\\n\\n\\n\\n\\n\\n\\n\\n\\n\\n\\n\\n\\n\\n\\n\\n\\n\\n\\n\\n\\n\\n\\n\\n\\n\\n\\n\\n\\n\\n\\n\\n\\n\\n\\n\\n\\n\\n\\n\\n\\n\\n\\n\\n\\n\\n\\n\\n\\n\\n\\n\\n\\n\\n\\n\\n\\n\\n\\n\\n\\n\\n\\n\\n\\n\\n\\n\\n\\n\\n\\n\\n\\n\\n\\n\\n\\n\\n\\n\\n\\n\\n\\n\\n\\n\\n\\n\\n\\n\\n\\n\\n\\n\\n\\n\\n\\n\\n\\n\\n\\n\\n\\n\\n\\n\\n\\n\\n\\n\\n\\n\\n\\n\\n\\n\\n\\n\\n\\n\\n\\n\\n\\n\\n\\n\\n\\n\\n\\n\\n\\n\\n\\n\\n\\n\\n\\n\\n\\n\\n\\n\\n\\n\\n\\n\\n\\n\\n\\n\\n\\n\\n\\n\\n\\n\\n\\n\\n\\n\\n\\n\\n\\n\\n\\n\\n\\n\\n\\n\\n\\n\\n\\n\\n\\n\\n\\n\\n\\n\\n\\n\\n\\n\\n\\n\\n\\n\\n\\n\\n\\n\\n\\n\\n\\n\\n\\n\\n\\n\\n\\n\\n\\n\\n\\n\\n\\n\\n\\n\\n\\n\\n\\n\\n\\n\\n\\n\\n\\n\\n\\n\\n\\n\\n\\n\\n\\n\\n\\n\\n\\n\\n\\n\\n\\n\\n\\n\\n\\n\\n\\n\\n\\n\\n\\n\\n\\n\\n\\n\\n\\n\\n\\n\\n\\n\\n\\n\\n\\n\\n\\n\\n\\n\\n\\n\\n\\n\\n\\n\\n\\n\\n\\n\\n\\n\\n\\n\\n\\n\\n\\n\\n\\n\\n\\n\\n\\n\\n\\n\\n\\n\\n\\n\\n\\n\\n\\n\\n\\n\\n\\n\\n\\n\\n\\n\\n\\n\\n\\n\\n\\n\\n\\n\\n\\n\\n\\n\\n\\n\\n\\n\\n\\n\\n\\n\\n\\n\\n\\n\\n\\n\\n\\n\\n\\n\\n\\n\\n\\n\\n\\n\\n\\n\\n\\n\\n\\n\\n\\n\\n\\n\\n\\n\\n\\n\\n\\n\\n\\n\\n\\n\\n\\n\\n\\n\\n\\n\\n\\n\\n\\n\\n\\n\\n\\n\\n\\n\\n\\n\\n\\n\\n\\n\\n\\n\\n\\n                    © Al Nisr Publishing LLC 2024. All rights reserved.\\n                \\n\\n\\n\\n\\n\\n\\n\\n\\n\\n\\n\\n\\n\\n\\n\\n\\n\\n\\n\\n\\n\\n\\n\\n\\n\\n\\n\\n\\n\\n\\n\\n\\n\\n\\n\\n\\n\\nSunday, May 26, 2024\\n\\n\\n\\n\\n\\n\\n\\n\\n\\n\\n\\n\\n\\n\\n\\n\\n\\n\\n\\n\\n\\n\\n\\n\\n\\n\\n\\n\\n\\n\\n\\n\\n\\n\\n\\n\\n\\n\\n\\n\\n\\n\\n\\n\\n\\n\\n\\n\\n\\n\\n\\n\\n\\n\\n\\n\\n\\n\\n\\n\\n\\n\\n\\n\\n\\n\\n\\n\\n\\n\\n\\n\\n\\n\\n\\n\\n\\n\\n\\n\\n\\n\\n\\n\\n\\n\\n\\n\\n\\n\\n\\n\\n\\n\\n\\n\\n\\n\\n\\n\\n\\n\\n\\n\\n\\n\\n\\n\\n\\n\\n\\n\\n\\n\\n\\n\\n\\n\\n\\n\\n\\n\\n\\n\\n\\n\\n\\n\\n\\n\\n\\n\\n\\n\\n\\n\\n\\n\\n\\n\\n\\n\\n\\n\\n\\n\\n\\n\\nConnect with the Newsroom\\nTo share a news tip, photo, opinion or video with us, email it on readers@gulfnews.com.You can use the same email address to inform us, if you come across any factual errors or mistakes, have feedback on the process or any queries on the content. You can also message us on Facebook or Instagram. Not a fan of social media, call us on 04 4067666.\\n        \\nContact Customer Care\\n\\nDigital\\n            Facing issues signing in or creating an account with us? Email us on DigitalSubscriptions@gulfnews.com Or call us on 600 599901 Or whatsapp us on 0505591961.\\n\\t\\t\\tYou can also use the form below to submit your query.\\n        \\n\\nPrint\\n            Having issues with your print subscription? Call us on 600 587234.For help with more complicated questions, email us at circul@gulfnews.com\\n\\nAdvertise with us\\n\\n        To advertise with the Gulf News, visit our  For inquiries, email us at: digitaladvt@gulfnews.com.\\n        \\nShare your Feedback\\n If you would like to share your feedback about our website email us at feedback@gulfnews.com You can also get in touch with the CEO & Editor-in-Chief Abdul Hamid Ahmad and the Executive Editor Meher Murshed for any other issues on readers@gulfnews.com. Or contact us using the form below \\n\\n\\n\\n\\n\\n\\n\\n\\nbackground\\n\\n\\n\\nLayer 1\\n\\n\\n\\n\\n                    044067666\\n                \\n\\n\\n\\n\\n\\n\\n                readers@gulfnews.com\\n                \\n\\n\\n\\n\\n\\n\\n                    @GNReaders\\n                \\n\\n\\n\\n\\nbackground\\n\\n\\n\\nLayer 1\\n\\n\\n\\n\\n                    056 5245977\\n                \\n\\n\\n\\n\\nbackground\\n\\n\\n\\nLayer 1\\n\\n\\n\\n\\n                    #GulfNews\\n                \\n\\n\\n\\n\\n\\n\\n\\n\\n\\n\\n\\n\\n                                        Name\\n                                        *\\n\\n\\n\\n\\n\\n\\n\\n\\n                                        Email\\n                                        *\\n\\n\\n\\n\\n\\n\\n\\n\\n                                        Subject\\n                                        *\\n\\n\\n\\n\\n\\n\\n\\n\\n                                        Message\\n                                        *\\n\\n\\n\\n\\n\\n\\n\\n\\n\\n\\n\\nSubmit\\n\\n\\n\\n\\n\\n\\n\\n\\n\\n\\n\\n\\n\\n\\n\\n\\n\\nGulf News - Dubai (Head Office)\\n\\n         Gulf News Printing\\n         Opposite SAFCO International,\\n         Dubai Investment Park - 2\\n\\t\\t Dubai Investments Park – Dubai\\n         Telephone   : +971-4-3447100\\n         Fax         : +971-4-3441627\\n         P.O. Box    : 6519\\n\\n\\n\\n\\n\\nAbu Dhabi Branch\\n\\n\\n\\n\\n\\nGulf News City Office - Abu Dhabi\\n\\n            1st Floor - office 106, Al Maya Supermarket Building, Electra Street,\\n            Abu Dhabi\\n         \\n\\n\\n\\n\\n\\n\\nClassifieds Counter\\n\\n\\n\\nGulf News City Office - Karama\\n\\n         Shop No. 17,\\n         Rawdat Al Karama Building,\\n         Block B, Near Pyramid Building,\\n         behind Al Ibrahimi Restaurant,\\n         Opp. Deccan Biryani Restaurant, Karama, Dubai.\\n         Timings: 8.30 am to 5.30 pm (Monday to Friday)\\n\\n\\n\\n\\nGulf News City Office - Sharjah\\n\\n         305, Galilee Tower or Burj Al Awael building\\n         (if approaching from Jamal Abdul Nasser Street- it is after Majaz Park, behind Al Itihad Pharmacy) AND (if approaching from Al Wahda - it is after Pizza Hut, behind Zain Supermarket.)\\n         Sharjah.\\n         Timings: 8.30 am to 5.30 pm (Monday to Friday)\\n\\n\\n\\n\\n\\n\\n \\n\\n\\n\\n\\n\\n\\n\\n\\n\\n\\n\\n\\n \\n\\n\\n\\n          Network links:\\n        \\n\\n\\n\\n\\n\\n\\n\\n\\n\\n\\n\\n\\n\\n\\n\\n\\n\\n\\n\\n\\n\\n\\n\\n\\n\\n\\n\\n\\n\\n\\n\\n\\n\\n\\n\\n\\n\\n\\n\\n\\n\\n\\n\\n\\n\\n\\n\\n\\n\\n\\n\\n\\n\\n\\n\\n\\n\\n\\n\\n\\n\\n\\n\\n\\n\\n\\n\\nFind us on Social\\n\\n\\n\\n\\n\\n\\n\\n\\n\\n\\n\\n\\n\\n\\n\\n\\n          © Al Nisr Publishing LLC 2024. All rights reserved.\\n        \\n\\n\\n\\n\\n\\n\\n\\n\\n                This website stores cookies on your computer. These cookies are used to improve your experience and provide more personalized service to you.\\n                Both on your website and other media. To find out more about the cookies and data we use, please check out our .\\n            \\n\\nOK\\n\\n\\n\\n\\n\\n\\n\\n\\n\\n\\n\\n\\n\\n\\n\\n\\n\\n\\n\\n\\n\\n\\n\\n\\n\\n\\n\\n\\n\\n\\n\\n\\n\\n\\n\\n\\n\\n\\n\\n\\n\\n\\n\\n\\n\\n\\n\\n\\n\\n\\n\\n\\n\\n\\n\\n\\n\\n\\n\\n\\n\\n\\n\\n\\n\\n\\n\\n\\n\\n\\n\\n\\n\\n\\n\\n\\n\\n\\n\\n\\n\\n\\n\\n\\n\\n\\n\\n×\\n\\n\\n\\n\\n\\n\\n\\n\\n\\n\\n\\n\\n\\n\\n\\n\\n\\n\\n\\n\\n\\n\\n\\n\\n\\n\\n\\n\\n\\n\\n\\n\\n\\n\\n\\n\\n\\n\\n              Get Breaking News Alerts From Gulf News\\n            \\nWe’ll send you latest news updates through the day. You can manage them any time by clicking on the notification icon.\\n\\n\\n\\n\\n\\n\\n\\n\\n\\n\\n\\n\\n\\n\\n\\n\\n\\n\\n\\n \\n\\n\\n\\n\\n\\n\\n\\nBy clicking “Accept All Cookies”, you agree to the storing of cookies on your device to enhance site navigation, analyze site usage, and assist in our marketing efforts. Cookies Settings Accept All CookiesPrivacy Preference CenterWhen you visit any website, it may store or retrieve information on your browser, mostly in the form of cookies. This information might be about you, your preferences or your device and is mostly used to make the site work as you expect it to. The information does not usually directly identify you, but it can give you a more personalized web experience. Because we respect your right to privacy, you can choose not to allow some types of cookies. Click on the different category headings to find out more and change our default settings. However, blocking some types of cookies may impact your experience of the site and the services we are able to offer.\\n            Allow All Manage Consent PreferencesFunctional CookiesAlways ActiveThese cookies enable the website to provide enhanced functionality and personalisation. They may be set by us or by third party providers whose services we have added to our pages. If you do not allow these cookies then some or all of these services may not function properly.Targeting CookiesAlways ActiveThese cookies may be set through our site by our advertising partners. They may be used by those companies to build a profile of your interests and show you relevant adverts on other sites. They do not store directly personal information, but are based on uniquely identifying your browser and internet device. If you do not allow these cookies, you will experience less targeted advertising.Strictly Necessary CookiesAlways ActiveThese cookies are necessary for the website to function and cannot be switched off in our systems. They are usually only set in response to actions made by you which amount to a request for services, such as setting your privacy preferences, logging in or filling in forms. You can set your browser to block or alert you about these cookies, but some parts of the site will not then work. These cookies do not store any personally identifiable information.Performance CookiesAlways ActiveThese cookies allow us to count visits and traffic sources so we can measure and improve the performance of our site. They help us to know which pages are the most and least popular and see how visitors move around the site. All information these cookies collect is aggregated and therefore anonymous. If you do not allow these cookies we will not know when you have visited our site, and will not be able to monitor its performance.Back ButtonPerformance Cookies  Search IconFilter IconClear checkbox label labelApply CancelConsent Leg.Interest  Switch Label label  Switch Label label  Switch Label labelReject All Confirm My Choices \\n\\n'"
      ]
     },
     "execution_count": 1,
     "metadata": {},
     "output_type": "execute_result"
    }
   ],
   "source": [
    "from pageProcessing import PageProcessing\n",
    "from contactLLM import ContactLLM\n",
    "from sentenceProcessing import SentenceProcessing\n",
    "\n",
    "pageProcessing = PageProcessing()\n",
    "contactLLM = ContactLLM()\n",
    "sentenceProcessing = SentenceProcessing()\n",
    "\n",
    "url = \"https://gulfnews.com/contact-us\"\n",
    "\n",
    "clean_html_text = pageProcessing.get_clean_html_text_from_url(url)\n",
    "clean_html_text"
   ]
  },
  {
   "cell_type": "code",
   "execution_count": 2,
   "id": "3227d663-fab0-4de1-a9ea-cdfa07acb008",
   "metadata": {},
   "outputs": [
    {
     "name": "stdout",
     "output_type": "stream",
     "text": [
      "1\n",
      "['tip, photo, opinion or video with us, email it on readers@gulfnews.com.You Instagram. Not a fan of social media, call us on 044067666 |&| in or creating an account with us? Email us on DigitalSubscriptions@gulfnews.com Or call us on 600599901 Or whatsapp us on 0505591961 |&| to submit your query. Print |&| Having issues with your print subscription? Call us on 600587234 . For help with more complicated questions, email us at circul@gulfnews.com |&| the Gulf News, visit our For inquiries, email us at: digitaladvt@gulfnews.com. |&| to share your feedback about our website email us at feedback@gulfnews.com the Executive Editor Meher Murshed for any other issues on readers@gulfnews.com. |&| background Layer 1 |&| 044067666 |&| readers@gulfnews.com |&| @GNReaders background Layer 1 |&| 0565245977 |&| Dubai Investments Park – Dubai |&| Telephone : +971-4-3447100 |&| Fax : +971-4-3441627']\n"
     ]
    }
   ],
   "source": [
    "chunks = sentenceProcessing.get_chunks_from_clean_html_text(clean_html_text)\n",
    "print(len(chunks))\n",
    "print(chunks)"
   ]
  },
  {
   "cell_type": "code",
   "execution_count": 3,
   "id": "6da746ec-463f-4fdb-8922-998792a16521",
   "metadata": {},
   "outputs": [
    {
     "data": {
      "text/plain": [
       "{'emails': ['readers@gulfnews.com',\n",
       "  'DigitalSubscriptions@gulfnews.com',\n",
       "  'circul@gulfnews.com',\n",
       "  'digitaladvt@gulfnews.com',\n",
       "  'feedback@gulfnews.com',\n",
       "  'meher.murshed@gulfnews.com'],\n",
       " 'phones': ['044067666',\n",
       "  '600599901',\n",
       "  '0505591961',\n",
       "  '600587234',\n",
       "  '+971-4-3447100',\n",
       "  '+971-4-3441627'],\n",
       " 'execution_time': '66.8735877936706 s | 1.1145597965611767 min'}"
      ]
     },
     "execution_count": 3,
     "metadata": {},
     "output_type": "execute_result"
    }
   ],
   "source": [
    "contactLLM = ContactLLM()\n",
    "contactLLM.predict(chunks[0], execution_time=True)"
   ]
  },
  {
   "cell_type": "code",
   "execution_count": null,
   "id": "752a5f5f-8b2a-4d0b-91fb-c6dad5f75c27",
   "metadata": {},
   "outputs": [],
   "source": []
  },
  {
   "cell_type": "code",
   "execution_count": 1,
   "id": "8b5f8920-2985-4b34-ade5-a41df338ae96",
   "metadata": {},
   "outputs": [],
   "source": [
    "from pageProcessing import PageProcessing\n",
    "from contactLLM import ContactLLM\n",
    "from sentenceProcessing import SentenceProcessing\n",
    "\n",
    "pageProcessing = PageProcessing()\n",
    "contactLLM = ContactLLM()\n",
    "sentenceProcessing = SentenceProcessing()\n",
    "\n",
    "url = \"https://gulfnews.com/contact-us\""
   ]
  },
  {
   "cell_type": "code",
   "execution_count": 2,
   "id": "84fee334-f793-4bfc-b54a-717bbd0a5c92",
   "metadata": {},
   "outputs": [],
   "source": [
    "html = pageProcessing.get_source_page_from_url(url)"
   ]
  },
  {
   "cell_type": "code",
   "execution_count": 3,
   "id": "6a372597-4891-49a6-b5ea-5d14373d2e59",
   "metadata": {},
   "outputs": [
    {
     "name": "stdout",
     "output_type": "stream",
     "text": [
      "-----------> Vider le contenu de la balise <head>: -3773 deleted words\n",
      "-----------> supprimer les commentaires : -159 deleted words\n",
      "-----------> Supprimer les balises avec leur contenu : script, noscript, style, ul, form, table, footer :  -885 deleted words\n",
      "-----------> Sélection et filtrer de toutes les balises <a>: -2125 deleted words\n"
     ]
    },
    {
     "data": {
      "text/plain": [
       "{'emails': {'DigitalSubscriptions@gulfnews.com',\n",
       "  'circul@gulfnews.com',\n",
       "  'digitaladvt@gulfnews.com',\n",
       "  'feedback@gulfnews.com',\n",
       "  'meher.murshed@gulfnews.com',\n",
       "  'readers@gulfnews.com'},\n",
       " 'phones': {'+971-4-3441627',\n",
       "  '+971-4-3447100',\n",
       "  '044067666',\n",
       "  '0505591961',\n",
       "  '0565245977',\n",
       "  '600587234',\n",
       "  '600599901'},\n",
       " 'execution_times': {'45.18009773828089 s | 0.7530016289713483 min'},\n",
       " 'nb_chunks': 1}"
      ]
     },
     "execution_count": 3,
     "metadata": {},
     "output_type": "execute_result"
    }
   ],
   "source": [
    "contactLLM.get_contact_informations(html)"
   ]
  },
  {
   "cell_type": "code",
   "execution_count": null,
   "id": "9fbcf382-a03b-476c-b56a-7400f859d2e6",
   "metadata": {},
   "outputs": [],
   "source": []
  },
  {
   "cell_type": "code",
   "execution_count": null,
   "id": "b37c1b87-0a5f-42bd-aacc-4604cc43f609",
   "metadata": {},
   "outputs": [],
   "source": []
  },
  {
   "cell_type": "code",
   "execution_count": null,
   "id": "ad9f7806-6b6e-4915-87f6-dd7004544c4b",
   "metadata": {},
   "outputs": [],
   "source": []
  }
 ],
 "metadata": {
  "kernelspec": {
   "display_name": "Python 3 (ipykernel)",
   "language": "python",
   "name": "python3"
  },
  "language_info": {
   "codemirror_mode": {
    "name": "ipython",
    "version": 3
   },
   "file_extension": ".py",
   "mimetype": "text/x-python",
   "name": "python",
   "nbconvert_exporter": "python",
   "pygments_lexer": "ipython3",
   "version": "3.11.6"
  }
 },
 "nbformat": 4,
 "nbformat_minor": 5
}
