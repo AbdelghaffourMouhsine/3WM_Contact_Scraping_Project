{
 "cells": [
  {
   "cell_type": "code",
   "execution_count": 1,
   "id": "4ae205ef-30c5-4218-8ac5-082d0beebbf2",
   "metadata": {},
   "outputs": [],
   "source": [
    "from contactLLM.contactLLM import ContactLLM\n",
    "from contactLLM.pageProcessing import PageProcessing\n",
    "from contactLLM.sentenceProcessing import SentenceProcessing"
   ]
  },
  {
   "cell_type": "code",
   "execution_count": 3,
   "id": "a353cc28-91db-4ede-b16a-ee6ffd34d147",
   "metadata": {},
   "outputs": [],
   "source": [
    "pageProcessing = PageProcessing()\n",
    "sentenceProcessing = SentenceProcessing()\n",
    "contactLLM = ContactLLM(_base_url=\"http://192.168.3.32:11001\")"
   ]
  },
  {
   "cell_type": "code",
   "execution_count": 4,
   "id": "e14a98a0-a637-456d-983c-bf0747fa4dd7",
   "metadata": {},
   "outputs": [],
   "source": [
    "chunk = \"\"\"23,2024 CONNECT WITH US Contact Us Head Office EMAIL US info@nation.com.pk Shahrah e Fatima Jinnah, \n",
    "            Lahore - Pakistan CALL US T: +92(42)36367580 F: +92(42)36367005 Branch Offices Karachi Office info@nation.com.pk \n",
    "            Shamsheer, Phase V, D. H. S., Karachi - Pakistan T: +92(21)58437203 F: +92(21)5854932 Multan Office \n",
    "            info@nation.com.pk Nawaiwaqt House Abdali Road, Multan - Pakistan T: +92(61)5455714 F: +92(61)580958 \n",
    "            Islamabad Office info@nation.com.pk Nawaiwaqt House Zero Point, Islamabad - Pakistan T: +92(51)22026414 \n",
    "            F: +92(42)22026456 Contact Us Form Loading... Hajj 2024:31,057 Pakistani pilgrims reach Saudi Arabia 1:34 \n",
    "            PM | May 23,202412:28 PM | May 23,202412:08 PM | May 23,202412:01 NIPCO House, 4- Shaharah e Fatima Jinnah, \n",
    "            Lahore, Pakistan Tel: +924236367580 | Fax : +924236367005'\n",
    "            \"\"\""
   ]
  },
  {
   "cell_type": "code",
   "execution_count": 5,
   "id": "20d62582-5d42-423e-ac0a-0e9dab1913aa",
   "metadata": {},
   "outputs": [
    {
     "data": {
      "text/plain": [
       "{'emails': ['info@nation.com.pk'],\n",
       " 'phones': ['+92(42)36367580',\n",
       "  '+92(21)58437203',\n",
       "  '+92(61)5455714',\n",
       "  '+92(51)22026414',\n",
       "  '+924236367580',\n",
       "  '+92(21)5854932',\n",
       "  '+92(61)580958',\n",
       "  '+92(42)22026456',\n",
       "  '+92(42)36367005'],\n",
       " 'execution_time': '84.64412777964026 s | 1.4107354629940043 min'}"
      ]
     },
     "execution_count": 5,
     "metadata": {},
     "output_type": "execute_result"
    }
   ],
   "source": [
    "contactLLM.predict(chunk, execution_time=True)"
   ]
  },
  {
   "cell_type": "code",
   "execution_count": 1,
   "id": "61ab56a3-de9f-4269-8d59-7c503a4ca214",
   "metadata": {},
   "outputs": [
    {
     "name": "stdout",
     "output_type": "stream",
     "text": [
      "{'emails': ['info@nation.com.pk'], 'phones': ['+92(42)36367580', '+92(21)58437203', '+92(61)5455714', '+92(51)22026414', '+92(42)22026456', '+924236367580', '+924236367005'], 'execution_time': '69.09732053615153 s | 1.1516220089358589 min'}\n",
      "{'emails': ['info@nation.com.pk'], 'phones': ['+92(42)36367580', '+92(42)36367005', '+92(21)58437203', '+92(21)5854932', '+92(61)5455714', '+92(61)580958', '+92(51)22026414', '+92(42)22026456'], 'execution_time': '116.75319338403642 s | 1.945886556400607 min'}\n",
      "{'emails': ['info@nation.com.pk'], 'phones': ['+92(42)36367580', '+92(21)58437203', '+92(61)5455714', '+92(51)22026414', '+924236367580', '+92(42)36367005', '+92(21)5854932', '+92(61)580958', '+924236367005'], 'execution_time': '170.77503645885736 s | 2.846250607647623 min'}\n",
      "{'emails': ['info@nation.com.pk'], 'phones': ['+92(42)36367580', '+92(21)58437203', '+92(61)5455714', '+92(51)22026414', '+924236367580', '+924236367005'], 'execution_time': '210.13054835703224 s | 3.5021758059505372 min'}\n",
      "{'emails': ['info@nation.com.pk'], 'phones': ['+92(42)36367580', '+92(21)58437203', '+92(61)5455714', '+92(51)22026414', '+924236367580', '+924236367005'], 'execution_time': '249.17385870497674 s | 4.152897645082946 min'}\n",
      "{'emails': ['info@nation.com.pk'], 'phones': ['+92(42)36367580', '+92(21)58437203', '+92(61)5455714', '+92(51)22026414', '+924236367580', '+92(21)5854932', '+92(61)580958', '+924236367005'], 'execution_time': '298.1883368100971 s | 4.969805613501618 min'}\n",
      "{'emails': ['info@nation.com.pk'], 'phones': ['+92(42)36367580', '+92(21)58437203', '+92(61)5455714', '+92(51)22026414'], 'execution_time': '329.72450266126543 s | 5.495408377687757 min'}\n",
      "{'emails': ['info@nation.com.pk'], 'phones': ['+92(42)36367580', '+92(21)58437203', '+92(61)5455714', '+92(51)22026414', '+924236367580', '+92(42)36367005', '+92(21)5854932', '+92(61)580958', '+92(42)22026456'], 'execution_time': '385.02187094278634 s | 6.417031182379772 min'}\n",
      "{'emails': ['info@nation.com.pk'], 'phones': ['+92(42)36367580', '+92(21)58437203', '+92(61)5455714', '+92(51)22026414', '+924236367580', '+92(42)36367005', '+92(21)5854932', '+92(61)580958', '+92(42)22026456'], 'execution_time': '435.8724806960672 s | 7.264541344934454 min'}\n",
      "{'emails': ['info@nation.com.pk'], 'phones': ['+92(42)36367580', '+92(42)36367005', '+92(21)58437203', '+92(21)5854932', '+92(61)5455714', '+92(61)580958', '+92(51)22026414', '+92(42)22026456'], 'execution_time': '513.3573786923662 s | 8.555956311539436 min'}\n",
      "{'emails': ['info@nation.com.pk'], 'phones': ['+92(42)36367580', '+92(42)36367005', '+92(21)58437203', '+92(21)5854932', '+92(61)5455714', '+92(61)580958', '+92(51)22026414', '+92(42)22026456'], 'execution_time': '567.3007334535941 s | 9.45501222422657 min'}\n",
      "{'emails': ['info@nation.com.pk'], 'phones': ['+92(42)36367580', '+92(42)36367005', '+92(21)58437203', '+92(21)5854932', '+92(61)5455714', '+92(61)580958', '+92(51)22026414', '+92(42)22026456'], 'execution_time': '621.1622151788324 s | 10.352703586313874 min'}\n",
      "{'emails': ['info@nation.com.pk'], 'phones': ['+92(42)36367580', '+92(42)36367005', '+92(21)58437203', '+92(21)5854932', '+92(61)5455714', '+92(61)580958', '+92(51)22026414', '+92(42)22026456'], 'execution_time': '668.9455745825544 s | 11.14909290970924 min'}\n",
      "{'emails': ['info@nation.com.pk'], 'phones': ['+92(42)36367580', '+92(21)58437203', '+92(61)5455714', '+92(51)22026414'], 'execution_time': '699.7113510537893 s | 11.661855850896488 min'}\n",
      "{'emails': ['info@nation.com.pk'], 'phones': ['+92(42)36367580', '+92(21)58437203', '+92(61)5455714', '+92(51)22026414'], 'execution_time': '732.4351910548285 s | 12.207253184247142 min'}\n",
      "{'emails': ['info@nation.com.pk'], 'phones': ['+92(42)36367580', '+92(21)58437203', '+92(61)5455714', '+92(51)22026414', '+92(42)36367005', '+92(21)5854932', '+92(61)580958', '+924236367580'], 'execution_time': '863.4584818342701 s | 14.390974697237834 min'}\n",
      "{'emails': ['info@nation.com.pk'], 'phones': ['+92(42)36367580', '+92(21)58437203', '+92(61)5455714', '+92(51)22026414'], 'execution_time': '894.6708957087249 s | 14.911181595145415 min'}\n",
      "{'emails': ['info@nation.com.pk'], 'phones': ['+92(42)36367580', '+92(21)58437203', '+92(61)5455714', '+92(51)22026414', '+924236367580', '+92(42)36367005', '+92(21)5854932', '+92(61)580958', '+92(42)22026456'], 'execution_time': '966.9138164091855 s | 16.115230273486425 min'}\n"
     ]
    }
   ],
   "source": [
    "import threading\n",
    "import time\n",
    "from contactLLM.contactLLM import ContactLLM\n",
    "from contactLLM.pageProcessing import PageProcessing\n",
    "from contactLLM.sentenceProcessing import SentenceProcessing\n",
    "\n",
    "def ma_fonction():\n",
    "    chunk = \"\"\"23,2024 CONNECT WITH US Contact Us Head Office EMAIL US info@nation.com.pk Shahrah e Fatima Jinnah, \n",
    "            Lahore - Pakistan CALL US T: +92(42)36367580 F: +92(42)36367005 Branch Offices Karachi Office info@nation.com.pk \n",
    "            Shamsheer, Phase V, D. H. S., Karachi - Pakistan T: +92(21)58437203 F: +92(21)5854932 Multan Office \n",
    "            info@nation.com.pk Nawaiwaqt House Abdali Road, Multan - Pakistan T: +92(61)5455714 F: +92(61)580958 \n",
    "            Islamabad Office info@nation.com.pk Nawaiwaqt House Zero Point, Islamabad - Pakistan T: +92(51)22026414 \n",
    "            F: +92(42)22026456 Contact Us Form Loading... Hajj 2024:31,057 Pakistani pilgrims reach Saudi Arabia 1:34 \n",
    "            PM | May 23,202412:28 PM | May 23,202412:08 PM | May 23,202412:01 NIPCO House, 4- Shaharah e Fatima Jinnah, \n",
    "            Lahore, Pakistan Tel: +924236367580 | Fax : +924236367005'\n",
    "            \"\"\"\n",
    "    pageProcessing = PageProcessing()\n",
    "    sentenceProcessing = SentenceProcessing()\n",
    "    contactLLM = ContactLLM(_base_url=\"http://192.168.3.32:11001\")\n",
    "    print(contactLLM.predict(chunk, execution_time=True))\n",
    "    \n",
    "threads = []\n",
    "\n",
    "for i in range(20):\n",
    "    thread = threading.Thread(target=ma_fonction)\n",
    "    thread.start()\n",
    "    threads.append(thread)\n",
    "    \n",
    "for thread in threads:\n",
    "    thread.join()"
   ]
  },
  {
   "cell_type": "code",
   "execution_count": 1,
   "id": "43c05e7b-f4a2-4d5f-b913-bafea2adee6b",
   "metadata": {},
   "outputs": [
    {
     "name": "stdout",
     "output_type": "stream",
     "text": [
      "http://192.168.3.32:11001\n",
      "http://192.168.3.32:11002\n",
      "http://192.168.3.32:11003\n",
      "{'emails': ['info@nation.com.pk'], 'phones': ['+92(42)36367580', '+92(21)58437203', '+92(61)5455714', '+92(51)22026414', '+924236367005'], 'execution_time': '334.29364010412246 s | 5.571560668402041 min'}\n",
      "{'emails': ['info@nation.com.pk'], 'phones': ['+92(42)36367580', '+92(21)58437203', '+92(61)5455714', '+92(51)22026414', '+924236367580'], 'execution_time': '334.806079544127 s | 5.58010132573545 min'}\n",
      "{'emails': ['info@nation.com.pk'], 'phones': ['+92(42)36367580', '+92(21)58437203', '+92(61)5455714', '+92(51)22026414', '+9242 367580', '+9242 367005'], 'execution_time': '339.58554388489574 s | 5.659759064748262 min'}\n"
     ]
    }
   ],
   "source": [
    "import threading\n",
    "import time\n",
    "from contactLLM.contactLLM import ContactLLM\n",
    "from contactLLM.pageProcessing import PageProcessing\n",
    "from contactLLM.sentenceProcessing import SentenceProcessing\n",
    "\n",
    "def ma_fonction(port):\n",
    "    chunk = \"\"\"23,2024 CONNECT WITH US Contact Us Head Office EMAIL US info@nation.com.pk Shahrah e Fatima Jinnah, \n",
    "            Lahore - Pakistan CALL US T: +92(42)36367580 F: +92(42)36367005 Branch Offices Karachi Office info@nation.com.pk \n",
    "            Shamsheer, Phase V, D. H. S., Karachi - Pakistan T: +92(21)58437203 F: +92(21)5854932 Multan Office \n",
    "            info@nation.com.pk Nawaiwaqt House Abdali Road, Multan - Pakistan T: +92(61)5455714 F: +92(61)580958 \n",
    "            Islamabad Office info@nation.com.pk Nawaiwaqt House Zero Point, Islamabad - Pakistan T: +92(51)22026414 \n",
    "            F: +92(42)22026456 Contact Us Form Loading... Hajj 2024:31,057 Pakistani pilgrims reach Saudi Arabia 1:34 \n",
    "            PM | May 23,202412:28 PM | May 23,202412:08 PM | May 23,202412:01 NIPCO House, 4- Shaharah e Fatima Jinnah, \n",
    "            Lahore, Pakistan Tel: +924236367580 | Fax : +924236367005'\n",
    "            \"\"\"\n",
    "    pageProcessing = PageProcessing()\n",
    "    sentenceProcessing = SentenceProcessing()\n",
    "    contactLLM = ContactLLM(_base_url=f\"http://192.168.3.32:{port}\")\n",
    "    print(f\"http://192.168.3.32:{port}\")\n",
    "    print(contactLLM.predict(chunk, execution_time=True))\n",
    "\n",
    "ports = [i for i in range(11001,11006)]\n",
    "threads = []\n",
    "\n",
    "for port in ports:\n",
    "    thread = threading.Thread(target=ma_fonction, args=(port,))\n",
    "    thread.start()\n",
    "    threads.append(thread)\n",
    "    \n",
    "    \n",
    "for thread in threads:\n",
    "    thread.join()"
   ]
  },
  {
   "cell_type": "code",
   "execution_count": 1,
   "id": "5aa1430e-38be-438b-91cd-899bd7c91c5b",
   "metadata": {},
   "outputs": [
    {
     "name": "stdout",
     "output_type": "stream",
     "text": [
      "http://192.168.3.32:11001\n",
      "http://192.168.3.32:11003\n",
      "http://192.168.3.32:11005\n",
      "http://192.168.3.32:11004\n",
      "http://192.168.3.32:11002\n"
     ]
    },
    {
     "ename": "KeyboardInterrupt",
     "evalue": "",
     "output_type": "error",
     "traceback": [
      "\u001b[0;31m---------------------------------------------------------------------------\u001b[0m",
      "\u001b[0;31mKeyboardInterrupt\u001b[0m                         Traceback (most recent call last)",
      "Cell \u001b[0;32mIn[1], line 33\u001b[0m\n\u001b[1;32m     29\u001b[0m     threads\u001b[38;5;241m.\u001b[39mappend(thread)\n\u001b[1;32m     32\u001b[0m \u001b[38;5;28;01mfor\u001b[39;00m thread \u001b[38;5;129;01min\u001b[39;00m threads:\n\u001b[0;32m---> 33\u001b[0m     \u001b[43mthread\u001b[49m\u001b[38;5;241;43m.\u001b[39;49m\u001b[43mjoin\u001b[49m\u001b[43m(\u001b[49m\u001b[43m)\u001b[49m\n",
      "File \u001b[0;32m/opt/conda/lib/python3.11/threading.py:1119\u001b[0m, in \u001b[0;36mThread.join\u001b[0;34m(self, timeout)\u001b[0m\n\u001b[1;32m   1116\u001b[0m     \u001b[38;5;28;01mraise\u001b[39;00m \u001b[38;5;167;01mRuntimeError\u001b[39;00m(\u001b[38;5;124m\"\u001b[39m\u001b[38;5;124mcannot join current thread\u001b[39m\u001b[38;5;124m\"\u001b[39m)\n\u001b[1;32m   1118\u001b[0m \u001b[38;5;28;01mif\u001b[39;00m timeout \u001b[38;5;129;01mis\u001b[39;00m \u001b[38;5;28;01mNone\u001b[39;00m:\n\u001b[0;32m-> 1119\u001b[0m     \u001b[38;5;28;43mself\u001b[39;49m\u001b[38;5;241;43m.\u001b[39;49m\u001b[43m_wait_for_tstate_lock\u001b[49m\u001b[43m(\u001b[49m\u001b[43m)\u001b[49m\n\u001b[1;32m   1120\u001b[0m \u001b[38;5;28;01melse\u001b[39;00m:\n\u001b[1;32m   1121\u001b[0m     \u001b[38;5;66;03m# the behavior of a negative timeout isn't documented, but\u001b[39;00m\n\u001b[1;32m   1122\u001b[0m     \u001b[38;5;66;03m# historically .join(timeout=x) for x<0 has acted as if timeout=0\u001b[39;00m\n\u001b[1;32m   1123\u001b[0m     \u001b[38;5;28mself\u001b[39m\u001b[38;5;241m.\u001b[39m_wait_for_tstate_lock(timeout\u001b[38;5;241m=\u001b[39m\u001b[38;5;28mmax\u001b[39m(timeout, \u001b[38;5;241m0\u001b[39m))\n",
      "File \u001b[0;32m/opt/conda/lib/python3.11/threading.py:1139\u001b[0m, in \u001b[0;36mThread._wait_for_tstate_lock\u001b[0;34m(self, block, timeout)\u001b[0m\n\u001b[1;32m   1136\u001b[0m     \u001b[38;5;28;01mreturn\u001b[39;00m\n\u001b[1;32m   1138\u001b[0m \u001b[38;5;28;01mtry\u001b[39;00m:\n\u001b[0;32m-> 1139\u001b[0m     \u001b[38;5;28;01mif\u001b[39;00m \u001b[43mlock\u001b[49m\u001b[38;5;241;43m.\u001b[39;49m\u001b[43macquire\u001b[49m\u001b[43m(\u001b[49m\u001b[43mblock\u001b[49m\u001b[43m,\u001b[49m\u001b[43m \u001b[49m\u001b[43mtimeout\u001b[49m\u001b[43m)\u001b[49m:\n\u001b[1;32m   1140\u001b[0m         lock\u001b[38;5;241m.\u001b[39mrelease()\n\u001b[1;32m   1141\u001b[0m         \u001b[38;5;28mself\u001b[39m\u001b[38;5;241m.\u001b[39m_stop()\n",
      "\u001b[0;31mKeyboardInterrupt\u001b[0m: "
     ]
    }
   ],
   "source": [
    "import threading\n",
    "import time\n",
    "from contactLLM.contactLLM import ContactLLM\n",
    "from contactLLM.pageProcessing import PageProcessing\n",
    "from contactLLM.sentenceProcessing import SentenceProcessing\n",
    "\n",
    "def ma_fonction(port):\n",
    "    chunk = \"\"\"23,2024 CONNECT WITH US Contact Us Head Office EMAIL US info@nation.com.pk Shahrah e Fatima Jinnah, \n",
    "            Lahore - Pakistan CALL US T: +92(42)36367580 F: +92(42)36367005 Branch Offices Karachi Office info@nation.com.pk \n",
    "            Shamsheer, Phase V, D. H. S., Karachi - Pakistan T: +92(21)58437203 F: +92(21)5854932 Multan Office \n",
    "            info@nation.com.pk Nawaiwaqt House Abdali Road, Multan - Pakistan T: +92(61)5455714 F: +92(61)580958 \n",
    "            Islamabad Office info@nation.com.pk Nawaiwaqt House Zero Point, Islamabad - Pakistan T: +92(51)22026414 \n",
    "            F: +92(42)22026456 Contact Us Form Loading... Hajj 2024:31,057 Pakistani pilgrims reach Saudi Arabia 1:34 \n",
    "            PM | May 23,202412:28 PM | May 23,202412:08 PM | May 23,202412:01 NIPCO House, 4- Shaharah e Fatima Jinnah, \n",
    "            Lahore, Pakistan Tel: +924236367580 | Fax : +924236367005'\n",
    "            \"\"\"\n",
    "    pageProcessing = PageProcessing()\n",
    "    sentenceProcessing = SentenceProcessing()\n",
    "    contactLLM = ContactLLM(_base_url=f\"http://192.168.3.32:{port}\")\n",
    "    print(f\"http://192.168.3.32:{port}\")\n",
    "    print(contactLLM.predict(chunk, execution_time=True))\n",
    "\n",
    "ports = [i for i in range(11001,11006)]\n",
    "threads = []\n",
    "\n",
    "for port in ports:\n",
    "    thread = threading.Thread(target=ma_fonction, args=(port,))\n",
    "    thread.start()\n",
    "    threads.append(thread)\n",
    "    \n",
    "    \n",
    "for thread in threads:\n",
    "    thread.join()"
   ]
  },
  {
   "cell_type": "code",
   "execution_count": 2,
   "id": "9d752c22-6356-4a3e-ba11-ecaac46240e2",
   "metadata": {},
   "outputs": [
    {
     "name": "stdout",
     "output_type": "stream",
     "text": [
      "Nombre de CPU: 48\n"
     ]
    }
   ],
   "source": [
    "import multiprocessing\n",
    "\n",
    "num_cpus = multiprocessing.cpu_count()\n",
    "print(f\"Nombre de CPU: {num_cpus}\")"
   ]
  },
  {
   "cell_type": "code",
   "execution_count": null,
   "id": "138c04bc-cdef-449a-b877-b96053e0eb13",
   "metadata": {},
   "outputs": [],
   "source": []
  },
  {
   "cell_type": "code",
   "execution_count": 1,
   "id": "84106203-a15e-40bd-893a-fa97221fa6ec",
   "metadata": {},
   "outputs": [
    {
     "name": "stdout",
     "output_type": "stream",
     "text": [
      "Process 1 started\n",
      "Process 2 started\n",
      "\n",
      "http://192.168.3.32:11002Process 3 startedProcess 0 startedhttp://192.168.3.32:11003\n",
      "\n",
      "\n",
      "Process 4 startedhttp://192.168.3.32:11004\n",
      "\n",
      "http://192.168.3.32:11001\n",
      "http://192.168.3.32:11005\n"
     ]
    },
    {
     "name": "stderr",
     "output_type": "stream",
     "text": [
      "Process Process-4:\n",
      "Process Process-3:\n",
      "Process Process-5:\n",
      "Process Process-1:\n",
      "Process Process-2:\n",
      "Traceback (most recent call last):\n",
      "  File \"/opt/conda/lib/python3.11/multiprocessing/process.py\", line 314, in _bootstrap\n",
      "    self.run()\n",
      "  File \"/opt/conda/lib/python3.11/multiprocessing/process.py\", line 108, in run\n",
      "    self._target(*self._args, **self._kwargs)\n",
      "  File \"/tmp/ipykernel_287/3875182329.py\", line 22, in worker\n",
      "    print(contactLLM.predict(chunk, execution_time=True))\n",
      "          ^^^^^^^^^^^^^^^^^^^^^^^^^^^^^^^^^^^^^^^^^^^^^^\n",
      "  File \"/home/jovyan/work/code/contactLLM/contactLLM.py\", line 51, in predict\n",
      "    response = self.chain.invoke({ \"htmlCode\": html_source_code })\n",
      "               ^^^^^^^^^^^^^^^^^^^^^^^^^^^^^^^^^^^^^^^^^^^^^^^^^^^\n",
      "  File \"/opt/conda/lib/python3.11/site-packages/langchain_core/runnables/base.py\", line 2499, in invoke\n",
      "    input = step.invoke(\n",
      "            ^^^^^^^^^^^^\n",
      "  File \"/opt/conda/lib/python3.11/site-packages/langchain_core/language_models/chat_models.py\", line 158, in invoke\n",
      "    self.generate_prompt(\n",
      "  File \"/opt/conda/lib/python3.11/site-packages/langchain_core/language_models/chat_models.py\", line 560, in generate_prompt\n",
      "    return self.generate(prompt_messages, stop=stop, callbacks=callbacks, **kwargs)\n",
      "           ^^^^^^^^^^^^^^^^^^^^^^^^^^^^^^^^^^^^^^^^^^^^^^^^^^^^^^^^^^^^^^^^^^^^^^^^\n",
      "  File \"/opt/conda/lib/python3.11/site-packages/langchain_core/language_models/chat_models.py\", line 421, in generate\n",
      "    raise e\n",
      "  File \"/opt/conda/lib/python3.11/site-packages/langchain_core/language_models/chat_models.py\", line 411, in generate\n",
      "    self._generate_with_cache(\n",
      "  File \"/opt/conda/lib/python3.11/site-packages/langchain_core/language_models/chat_models.py\", line 632, in _generate_with_cache\n",
      "    result = self._generate(\n",
      "             ^^^^^^^^^^^^^^^\n",
      "  File \"/opt/conda/lib/python3.11/site-packages/langchain_community/chat_models/ollama.py\", line 257, in _generate\n",
      "    final_chunk = self._chat_stream_with_aggregation(\n",
      "                  ^^^^^^^^^^^^^^^^^^^^^^^^^^^^^^^^^^^\n",
      "  File \"/opt/conda/lib/python3.11/site-packages/langchain_community/chat_models/ollama.py\", line 188, in _chat_stream_with_aggregation\n",
      "    for stream_resp in self._create_chat_stream(messages, stop, **kwargs):\n",
      "  File \"/opt/conda/lib/python3.11/site-packages/langchain_community/chat_models/ollama.py\", line 161, in _create_chat_stream\n",
      "    yield from self._create_stream(\n",
      "  File \"/opt/conda/lib/python3.11/site-packages/requests/models.py\", line 865, in iter_lines\n",
      "    for chunk in self.iter_content(\n",
      "  File \"/opt/conda/lib/python3.11/site-packages/requests/utils.py\", line 571, in stream_decode_response_unicode\n",
      "    for chunk in iterator:\n",
      "  File \"/opt/conda/lib/python3.11/site-packages/requests/models.py\", line 816, in generate\n",
      "    yield from self.raw.stream(chunk_size, decode_content=True)\n",
      "  File \"/opt/conda/lib/python3.11/site-packages/urllib3/response.py\", line 933, in stream\n",
      "    yield from self.read_chunked(amt, decode_content=decode_content)\n",
      "  File \"/opt/conda/lib/python3.11/site-packages/urllib3/response.py\", line 1073, in read_chunked\n",
      "    self._update_chunk_length()\n",
      "  File \"/opt/conda/lib/python3.11/site-packages/urllib3/response.py\", line 1001, in _update_chunk_length\n",
      "    line = self._fp.fp.readline()  # type: ignore[union-attr]\n",
      "           ^^^^^^^^^^^^^^^^^^^^^^\n",
      "  File \"/opt/conda/lib/python3.11/socket.py\", line 706, in readinto\n",
      "    return self._sock.recv_into(b)\n",
      "           ^^^^^^^^^^^^^^^^^^^^^^^\n",
      "KeyboardInterrupt\n"
     ]
    },
    {
     "ename": "KeyboardInterrupt",
     "evalue": "",
     "output_type": "error",
     "traceback": [
      "\u001b[0;31m---------------------------------------------------------------------------\u001b[0m",
      "\u001b[0;31mKeyboardInterrupt\u001b[0m                         Traceback (most recent call last)",
      "Cell \u001b[0;32mIn[1], line 37\u001b[0m\n\u001b[1;32m     35\u001b[0m \u001b[38;5;66;03m# Attendre que tous les processus se terminent\u001b[39;00m\n\u001b[1;32m     36\u001b[0m \u001b[38;5;28;01mfor\u001b[39;00m process \u001b[38;5;129;01min\u001b[39;00m processes:\n\u001b[0;32m---> 37\u001b[0m     \u001b[43mprocess\u001b[49m\u001b[38;5;241;43m.\u001b[39;49m\u001b[43mjoin\u001b[49m\u001b[43m(\u001b[49m\u001b[43m)\u001b[49m\n\u001b[1;32m     39\u001b[0m \u001b[38;5;28mprint\u001b[39m(\u001b[38;5;124m\"\u001b[39m\u001b[38;5;124mAll processes completed.\u001b[39m\u001b[38;5;124m\"\u001b[39m)\n",
      "File \u001b[0;32m/opt/conda/lib/python3.11/multiprocessing/process.py:149\u001b[0m, in \u001b[0;36mBaseProcess.join\u001b[0;34m(self, timeout)\u001b[0m\n\u001b[1;32m    147\u001b[0m \u001b[38;5;28;01massert\u001b[39;00m \u001b[38;5;28mself\u001b[39m\u001b[38;5;241m.\u001b[39m_parent_pid \u001b[38;5;241m==\u001b[39m os\u001b[38;5;241m.\u001b[39mgetpid(), \u001b[38;5;124m'\u001b[39m\u001b[38;5;124mcan only join a child process\u001b[39m\u001b[38;5;124m'\u001b[39m\n\u001b[1;32m    148\u001b[0m \u001b[38;5;28;01massert\u001b[39;00m \u001b[38;5;28mself\u001b[39m\u001b[38;5;241m.\u001b[39m_popen \u001b[38;5;129;01mis\u001b[39;00m \u001b[38;5;129;01mnot\u001b[39;00m \u001b[38;5;28;01mNone\u001b[39;00m, \u001b[38;5;124m'\u001b[39m\u001b[38;5;124mcan only join a started process\u001b[39m\u001b[38;5;124m'\u001b[39m\n\u001b[0;32m--> 149\u001b[0m res \u001b[38;5;241m=\u001b[39m \u001b[38;5;28;43mself\u001b[39;49m\u001b[38;5;241;43m.\u001b[39;49m\u001b[43m_popen\u001b[49m\u001b[38;5;241;43m.\u001b[39;49m\u001b[43mwait\u001b[49m\u001b[43m(\u001b[49m\u001b[43mtimeout\u001b[49m\u001b[43m)\u001b[49m\n\u001b[1;32m    150\u001b[0m \u001b[38;5;28;01mif\u001b[39;00m res \u001b[38;5;129;01mis\u001b[39;00m \u001b[38;5;129;01mnot\u001b[39;00m \u001b[38;5;28;01mNone\u001b[39;00m:\n\u001b[1;32m    151\u001b[0m     _children\u001b[38;5;241m.\u001b[39mdiscard(\u001b[38;5;28mself\u001b[39m)\n",
      "File \u001b[0;32m/opt/conda/lib/python3.11/multiprocessing/popen_fork.py:43\u001b[0m, in \u001b[0;36mPopen.wait\u001b[0;34m(self, timeout)\u001b[0m\n\u001b[1;32m     41\u001b[0m             \u001b[38;5;28;01mreturn\u001b[39;00m \u001b[38;5;28;01mNone\u001b[39;00m\n\u001b[1;32m     42\u001b[0m     \u001b[38;5;66;03m# This shouldn't block if wait() returned successfully.\u001b[39;00m\n\u001b[0;32m---> 43\u001b[0m     \u001b[38;5;28;01mreturn\u001b[39;00m \u001b[38;5;28;43mself\u001b[39;49m\u001b[38;5;241;43m.\u001b[39;49m\u001b[43mpoll\u001b[49m\u001b[43m(\u001b[49m\u001b[43mos\u001b[49m\u001b[38;5;241;43m.\u001b[39;49m\u001b[43mWNOHANG\u001b[49m\u001b[43m \u001b[49m\u001b[38;5;28;43;01mif\u001b[39;49;00m\u001b[43m \u001b[49m\u001b[43mtimeout\u001b[49m\u001b[43m \u001b[49m\u001b[38;5;241;43m==\u001b[39;49m\u001b[43m \u001b[49m\u001b[38;5;241;43m0.0\u001b[39;49m\u001b[43m \u001b[49m\u001b[38;5;28;43;01melse\u001b[39;49;00m\u001b[43m \u001b[49m\u001b[38;5;241;43m0\u001b[39;49m\u001b[43m)\u001b[49m\n\u001b[1;32m     44\u001b[0m \u001b[38;5;28;01mreturn\u001b[39;00m \u001b[38;5;28mself\u001b[39m\u001b[38;5;241m.\u001b[39mreturncode\n",
      "File \u001b[0;32m/opt/conda/lib/python3.11/multiprocessing/popen_fork.py:27\u001b[0m, in \u001b[0;36mPopen.poll\u001b[0;34m(self, flag)\u001b[0m\n\u001b[1;32m     25\u001b[0m \u001b[38;5;28;01mif\u001b[39;00m \u001b[38;5;28mself\u001b[39m\u001b[38;5;241m.\u001b[39mreturncode \u001b[38;5;129;01mis\u001b[39;00m \u001b[38;5;28;01mNone\u001b[39;00m:\n\u001b[1;32m     26\u001b[0m     \u001b[38;5;28;01mtry\u001b[39;00m:\n\u001b[0;32m---> 27\u001b[0m         pid, sts \u001b[38;5;241m=\u001b[39m os\u001b[38;5;241m.\u001b[39mwaitpid(\u001b[38;5;28mself\u001b[39m\u001b[38;5;241m.\u001b[39mpid, flag)\n\u001b[1;32m     28\u001b[0m     \u001b[38;5;28;01mexcept\u001b[39;00m \u001b[38;5;167;01mOSError\u001b[39;00m:\n\u001b[1;32m     29\u001b[0m         \u001b[38;5;66;03m# Child process not yet created. See #1731717\u001b[39;00m\n\u001b[1;32m     30\u001b[0m         \u001b[38;5;66;03m# e.errno == errno.ECHILD == 10\u001b[39;00m\n\u001b[1;32m     31\u001b[0m         \u001b[38;5;28;01mreturn\u001b[39;00m \u001b[38;5;28;01mNone\u001b[39;00m\n",
      "\u001b[0;31mKeyboardInterrupt\u001b[0m: "
     ]
    }
   ],
   "source": [
    "import multiprocessing\n",
    "import time\n",
    "from contactLLM.contactLLM import ContactLLM\n",
    "from contactLLM.pageProcessing import PageProcessing\n",
    "from contactLLM.sentenceProcessing import SentenceProcessing\n",
    "\n",
    "def worker(number,port):\n",
    "    print(f\"Process {number} started\")\n",
    "    chunk = \"\"\"23,2024 CONNECT WITH US Contact Us Head Office EMAIL US info@nation.com.pk Shahrah e Fatima Jinnah, \n",
    "            Lahore - Pakistan CALL US T: +92(42)36367580 F: +92(42)36367005 Branch Offices Karachi Office info@nation.com.pk \n",
    "            Shamsheer, Phase V, D. H. S., Karachi - Pakistan T: +92(21)58437203 F: +92(21)5854932 Multan Office \n",
    "            info@nation.com.pk Nawaiwaqt House Abdali Road, Multan - Pakistan T: +92(61)5455714 F: +92(61)580958 \n",
    "            Islamabad Office info@nation.com.pk Nawaiwaqt House Zero Point, Islamabad - Pakistan T: +92(51)22026414 \n",
    "            F: +92(42)22026456 Contact Us Form Loading... Hajj 2024:31,057 Pakistani pilgrims reach Saudi Arabia 1:34 \n",
    "            PM | May 23,202412:28 PM | May 23,202412:08 PM | May 23,202412:01 NIPCO House, 4- Shaharah e Fatima Jinnah, \n",
    "            Lahore, Pakistan Tel: +924236367580 | Fax : +924236367005'\n",
    "            \"\"\"\n",
    "    pageProcessing = PageProcessing()\n",
    "    sentenceProcessing = SentenceProcessing()\n",
    "    contactLLM = ContactLLM(_base_url=f\"http://192.168.3.32:{port}\")\n",
    "    print(f\"http://192.168.3.32:{port}\")\n",
    "    print(contactLLM.predict(chunk, execution_time=True))\n",
    "    print(f\"Process {number} finished\")\n",
    "\n",
    "if __name__ == \"__main__\":\n",
    "    processes = []\n",
    "    num_processes = 5\n",
    "    ports = [i for i in range(11001,11006)]\n",
    "    \n",
    "    for i, port in enumerate(ports):\n",
    "        process = multiprocessing.Process(target=worker, args=(i,port,))\n",
    "        processes.append(process)\n",
    "        process.start()\n",
    "\n",
    "    # Attendre que tous les processus se terminent\n",
    "    for process in processes:\n",
    "        process.join()\n",
    "\n",
    "    print(\"All processes completed.\")\n"
   ]
  },
  {
   "cell_type": "code",
   "execution_count": null,
   "id": "334396ee-79e3-483e-be51-2e71a2aefaf2",
   "metadata": {},
   "outputs": [],
   "source": []
  },
  {
   "cell_type": "code",
   "execution_count": null,
   "id": "9d9bda89-6cbb-4640-91c0-eb285fafc77f",
   "metadata": {},
   "outputs": [],
   "source": []
  },
  {
   "cell_type": "code",
   "execution_count": null,
   "id": "8b5004d0-4b14-41c8-bbdf-cfd1cd4bf684",
   "metadata": {},
   "outputs": [],
   "source": []
  },
  {
   "cell_type": "code",
   "execution_count": null,
   "id": "b1a30707-7cba-4185-9b78-ee79ce6f6202",
   "metadata": {},
   "outputs": [],
   "source": []
  }
 ],
 "metadata": {
  "kernelspec": {
   "display_name": "Python 3 (ipykernel)",
   "language": "python",
   "name": "python3"
  },
  "language_info": {
   "codemirror_mode": {
    "name": "ipython",
    "version": 3
   },
   "file_extension": ".py",
   "mimetype": "text/x-python",
   "name": "python",
   "nbconvert_exporter": "python",
   "pygments_lexer": "ipython3",
   "version": "3.11.6"
  }
 },
 "nbformat": 4,
 "nbformat_minor": 5
}
