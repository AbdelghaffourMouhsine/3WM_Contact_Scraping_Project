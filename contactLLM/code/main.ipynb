{
 "cells": [
  {
   "cell_type": "code",
   "execution_count": 1,
   "id": "cde5dd72-6d51-4db6-8923-e8a5b0202a4f",
   "metadata": {},
   "outputs": [],
   "source": [
    "from langchain_community.llms import Ollama\n",
    "from langchain.callbacks.manager import CallbackManager\n",
    "from langchain.callbacks.streaming_stdout import StreamingStdOutCallbackHandler"
   ]
  },
  {
   "cell_type": "code",
   "execution_count": 2,
   "id": "40328205-c5b5-4b55-845f-43467c3dbdb1",
   "metadata": {},
   "outputs": [],
   "source": [
    "llm = Ollama(\n",
    "    model=\"llama3\",\n",
    "    num_gpu = 0, # To use CPU only\n",
    "    callback_manager=CallbackManager([StreamingStdOutCallbackHandler()]),\n",
    "    # format=\"json\",\n",
    "    temperature=1,\n",
    "    base_url=\"http://192.168.3.32:11000\"\n",
    ")"
   ]
  },
  {
   "cell_type": "code",
   "execution_count": 3,
   "id": "ef976396-8f03-478d-a790-123eb1941895",
   "metadata": {},
   "outputs": [
    {
     "name": "stdout",
     "output_type": "stream",
     "text": [
      "Nice to meet you! I'm LLaMA, an AI assistant developed by Meta AI that can understand and respond to human input in a conversational manner. My primary function is to provide helpful and accurate responses to your questions and engage in productive conversations.\n",
      "\n",
      "I've been trained on a massive dataset of text from the internet and can generate human-like responses to a wide range of topics, including but not limited to:\n",
      "\n",
      "* Chatting about current events or news\n",
      "* Sharing interesting facts or trivia\n",
      "* Offering language translation services\n",
      "* Playing games like 20 Questions or Would You Rather\n",
      "* Assisting with writing or proofreading tasks\n",
      "\n",
      "I'm constantly learning and improving my responses based on user interactions, so please feel free to share your thoughts, ask questions, or just chat with me!"
     ]
    },
    {
     "data": {
      "text/plain": [
       "\"Nice to meet you! I'm LLaMA, an AI assistant developed by Meta AI that can understand and respond to human input in a conversational manner. My primary function is to provide helpful and accurate responses to your questions and engage in productive conversations.\\n\\nI've been trained on a massive dataset of text from the internet and can generate human-like responses to a wide range of topics, including but not limited to:\\n\\n* Chatting about current events or news\\n* Sharing interesting facts or trivia\\n* Offering language translation services\\n* Playing games like 20 Questions or Would You Rather\\n* Assisting with writing or proofreading tasks\\n\\nI'm constantly learning and improving my responses based on user interactions, so please feel free to share your thoughts, ask questions, or just chat with me!\""
      ]
     },
     "execution_count": 3,
     "metadata": {},
     "output_type": "execute_result"
    }
   ],
   "source": [
    "llm.invoke(\"hi, who are you ?\")"
   ]
  },
  {
   "cell_type": "code",
   "execution_count": 4,
   "id": "6884988f-fab6-4994-b82d-6aef6704eebf",
   "metadata": {},
   "outputs": [],
   "source": [
    "from langchain_community.chat_models import ChatOllama\n",
    "from langchain_core.messages import HumanMessage, SystemMessage\n",
    "from langchain_core.output_parsers import StrOutputParser\n",
    "from langchain_core.prompts import ChatPromptTemplate\n",
    "\n",
    "from langchain.callbacks.manager import CallbackManager\n",
    "from langchain.callbacks.streaming_stdout import StreamingStdOutCallbackHandler\n",
    "import time\n",
    "import json"
   ]
  },
  {
   "cell_type": "code",
   "execution_count": 5,
   "id": "c0b0faa7-04fd-4e03-b144-a41ec048f0c9",
   "metadata": {},
   "outputs": [],
   "source": [
    "llm_1 = ChatOllama(model = \"llama3\",\n",
    "                 format = \"json\",\n",
    "                 temperature = 1,\n",
    "                 num_gpu = 0, # To use CPU only\n",
    "                 # callback_manager = CallbackManager([StreamingStdOutCallbackHandler()]),\n",
    "                 max_new_tokens = 255,\n",
    "                 base_url=\"http://192.168.3.32:11000\"\n",
    "                )"
   ]
  },
  {
   "cell_type": "code",
   "execution_count": 6,
   "id": "5739b90c-36d0-41d8-bf58-849c29624061",
   "metadata": {},
   "outputs": [],
   "source": [
    "messages = [\n",
    "        (\n",
    "        \"system\",\"\"\"You are an agent tasked with extracting contact information (emails, phone and fax numbers, addresses) from an HTML code. For example:\n",
    "                    HTML Code Example:\n",
    "                        <html>\n",
    "                        <head>\n",
    "                            <title>Web Site Title</title>\n",
    "                        </head>\n",
    "                        <body>\n",
    "                            <h1>Contact Details</h1>\n",
    "                            <p>Emails: <span> abdelghaffour@gmail.com </span> <span> mouhsine.abdo@usmba.ac.ma </span></p>\n",
    "                            <p>Phones: 06 82 10 33 81 / 07 21 23 54 12</p>\n",
    "                            <p>Address: 123 Main St, City, Country</p>\n",
    "                        </body>\n",
    "                        </html>\n",
    "                    Your task is to extract the contact information and format it into the following JSON object:\n",
    "                        [\n",
    "                             \"emails\": [\"abdelghaffour@gmail.com\", \"mouhsine.abdo@usmba.ac.ma\"],\n",
    "                             \"phones\": [\"06 82 10 33 81\", \"07 21 23 54 12\"],\n",
    "                             \"addresses\": [\"123 Main St, City, Country\"]\n",
    "                        ]\n",
    "                    Make sure to identify and extract the relevant information accurately.\n",
    "                        \"\"\"\n",
    "    ),\n",
    "    (\n",
    "        \"human\",\"\"\"Extract the contact information and format it into a JSON object:\"\"\"\n",
    "    ),\n",
    "    (\n",
    "        \"human\",\"{htmlCode}\"\n",
    "    ),\n",
    "]\n",
    "\n",
    "html_source_code = \"\"\"\n",
    "<html>\n",
    "    <head>\n",
    "        <title>Contact Information</title>\n",
    "    </head>\n",
    "    <body>\n",
    "        Adresse :20-26, Rue Bassatine – Immeuble Myr – Etage 5 – Bd de la Résistance – Casablanca\n",
    "        :الهاتف\n",
    "        00 212 539 93 63 63\n",
    "\n",
    "        212.539.94.90.37\n",
    "        الهاتف:\n",
    "        +212 682103381\n",
    "        212661988374 – 0021266339713\n",
    "        \n",
    "        البريد الإلكتروني\n",
    "        info@medi1.com\n",
    "\n",
    "        : للحصول على وظيفة أو تدريب\n",
    "        rh@medi1.com\n",
    "\n",
    "\n",
    "        : لإلتحاق بهيئة التحرير\n",
    "        redaction@medi1.com\n",
    "\n",
    "\n",
    "        : لطلب الإعلان أو الشراكة\n",
    "        pub@medi1.com\n",
    "\n",
    "\n",
    "        :لإعطاء ملاحظات حول القناة أو برامجها\n",
    "        info@medi1.com\n",
    "\n",
    "\n",
    "        الإميل: infos.amtm@gmail.com\n",
    "\n",
    "    </body>\n",
    "</html>\n",
    "\"\"\"\n",
    "template = ChatPromptTemplate.from_messages(messages)"
   ]
  },
  {
   "cell_type": "code",
   "execution_count": 7,
   "id": "8b04163a-2db7-43ef-9fa4-17d25935dc73",
   "metadata": {},
   "outputs": [],
   "source": [
    "chain_1 = template | llm_1 | StrOutputParser()"
   ]
  },
  {
   "cell_type": "code",
   "execution_count": 8,
   "id": "e128c71b-275f-4b66-a260-798b14414957",
   "metadata": {},
   "outputs": [],
   "source": [
    "start = time.perf_counter()\n",
    "response_1 = chain_1.invoke({ \"htmlCode\": html_source_code })\n",
    "end = time.perf_counter()"
   ]
  },
  {
   "cell_type": "code",
   "execution_count": 9,
   "id": "56c8e456-3165-4ea3-8f69-db162ab251a7",
   "metadata": {},
   "outputs": [
    {
     "data": {
      "text/plain": [
       "'{\"emails\": [\"info@medi1.com\", \"rh@medi1.com\", \"redaction@medi1.com\", \"pub@medi1.com\", \"info@medi1.com\", \"infos.amt@gmail.com\"],\\n\"phones\": [\"00 212 539 93 63 63\", \"212.539.94.90.37\", \"+212 682103381\", \"212661988374\", \"0021266339713\"],\\n\"addresses\": [\"20-26, Rue Bassatine – Immeuble Myr – Etage 5 – Bd de la Résistance – Casablanca\"]}'"
      ]
     },
     "execution_count": 9,
     "metadata": {},
     "output_type": "execute_result"
    }
   ],
   "source": [
    "response_1"
   ]
  },
  {
   "cell_type": "code",
   "execution_count": 10,
   "id": "4126948b-c2d5-48ac-b60f-3e0f9c615ad2",
   "metadata": {},
   "outputs": [
    {
     "name": "stdout",
     "output_type": "stream",
     "text": [
      "Execution time : 91.815159 seconds | 1.5302527 min\n"
     ]
    }
   ],
   "source": [
    "print(f\"Execution time : {end - start :.8} seconds | {(end - start)/60 :.8} min\")"
   ]
  },
  {
   "cell_type": "code",
   "execution_count": 11,
   "id": "c71b092a-d311-489c-995c-70ba764825dc",
   "metadata": {},
   "outputs": [
    {
     "name": "stdout",
     "output_type": "stream",
     "text": [
      "['info@medi1.com', 'rh@medi1.com', 'redaction@medi1.com', 'pub@medi1.com', 'info@medi1.com', 'infos.amt@gmail.com']\n",
      "['00 212 539 93 63 63', '212.539.94.90.37', '+212 682103381', '212661988374', '0021266339713']\n",
      "['20-26, Rue Bassatine – Immeuble Myr – Etage 5 – Bd de la Résistance – Casablanca']\n"
     ]
    }
   ],
   "source": [
    "# Parse the JSON string\n",
    "parsed_json = json.loads(response_1)\n",
    "\n",
    "# Now we can access the values in the JSON\n",
    "print(parsed_json[\"emails\"]) \n",
    "print(parsed_json[\"phones\"]) \n",
    "print(parsed_json[\"addresses\"])"
   ]
  },
  {
   "cell_type": "code",
   "execution_count": null,
   "id": "0e86a9dc-0d74-462c-8873-7e0af1fa7c91",
   "metadata": {},
   "outputs": [],
   "source": []
  },
  {
   "cell_type": "code",
   "execution_count": null,
   "id": "dcdc5198-d05b-44f7-859f-a9b6e3feacdb",
   "metadata": {},
   "outputs": [],
   "source": []
  },
  {
   "cell_type": "code",
   "execution_count": 12,
   "id": "3c6426d8-6b60-44ed-868b-cf390593ad32",
   "metadata": {},
   "outputs": [],
   "source": [
    "llm_2 = ChatOllama(model = \"llama3:70b\",\n",
    "                 format = \"json\",\n",
    "                 temperature = 1,\n",
    "                 num_gpu = 0, # To use CPU only\n",
    "                 # callback_manager = CallbackManager([StreamingStdOutCallbackHandler()]),\n",
    "                 max_new_tokens = 255,\n",
    "                 base_url=\"http://192.168.3.32:11000\"\n",
    "                )"
   ]
  },
  {
   "cell_type": "code",
   "execution_count": 13,
   "id": "3b71a0b7-7ea0-41d8-8f92-6c5673714804",
   "metadata": {},
   "outputs": [],
   "source": [
    "chain_2 = template | llm_2 | StrOutputParser()"
   ]
  },
  {
   "cell_type": "code",
   "execution_count": 14,
   "id": "fe560885-ca94-4ac3-8df5-8e5cbf4373ff",
   "metadata": {},
   "outputs": [],
   "source": [
    "start = time.perf_counter()\n",
    "response_2 = chain_2.invoke({ \"htmlCode\": html_source_code })\n",
    "end = time.perf_counter()"
   ]
  },
  {
   "cell_type": "code",
   "execution_count": 15,
   "id": "c55e07f9-365b-4ed3-95da-64e0646633b5",
   "metadata": {},
   "outputs": [
    {
     "data": {
      "text/plain": [
       "'{\\n    \"addresses\": [\"20-26, Rue Bassatine – Immeuble Myr – Etage 5 – Bd de la Résistance – Casablanca\"],\\n    \"phones\": [\"00 212 539 93 63 63\", \"212.539.94.90.37\", \"+212 682103381\", \"212661988374\", \"0021266339713\"],\\n    \"emails\": [\"info@medi1.com\", \"rh@medi1.com\", \"redaction@medi1.com\", \"pub@medi1.com\", \"infos.amtm@gmail.com\"]\\n}'"
      ]
     },
     "execution_count": 15,
     "metadata": {},
     "output_type": "execute_result"
    }
   ],
   "source": [
    "response_2"
   ]
  },
  {
   "cell_type": "code",
   "execution_count": 16,
   "id": "5c0d02e1-cd01-44ac-8424-2049049e2d1b",
   "metadata": {},
   "outputs": [
    {
     "name": "stdout",
     "output_type": "stream",
     "text": [
      "Execution time : 318.30638 seconds | 5.3051063 min\n"
     ]
    }
   ],
   "source": [
    "print(f\"Execution time : {end - start :.8} seconds | {(end - start)/60 :.8} min\")"
   ]
  },
  {
   "cell_type": "code",
   "execution_count": 17,
   "id": "15809bf0-80a4-493e-a6f3-4abb72c45036",
   "metadata": {},
   "outputs": [
    {
     "name": "stdout",
     "output_type": "stream",
     "text": [
      "['info@medi1.com', 'rh@medi1.com', 'redaction@medi1.com', 'pub@medi1.com', 'infos.amtm@gmail.com']\n",
      "['00 212 539 93 63 63', '212.539.94.90.37', '+212 682103381', '212661988374', '0021266339713']\n",
      "['20-26, Rue Bassatine – Immeuble Myr – Etage 5 – Bd de la Résistance – Casablanca']\n"
     ]
    }
   ],
   "source": [
    "# Parse the JSON string\n",
    "parsed_json = json.loads(response_2)\n",
    "\n",
    "# Now we can access the values in the JSON\n",
    "print(parsed_json[\"emails\"]) \n",
    "print(parsed_json[\"phones\"]) \n",
    "print(parsed_json[\"addresses\"])"
   ]
  },
  {
   "cell_type": "code",
   "execution_count": null,
   "id": "f89c273b-7e1e-4604-983b-170a1a67ffa3",
   "metadata": {},
   "outputs": [],
   "source": []
  },
  {
   "cell_type": "code",
   "execution_count": null,
   "id": "525804da-063a-4de1-a280-c45965d01da4",
   "metadata": {},
   "outputs": [],
   "source": []
  },
  {
   "cell_type": "markdown",
   "id": "00e6d54f-081c-4660-b001-2fa6c32619b7",
   "metadata": {},
   "source": [
    "# Class ContactLLM"
   ]
  },
  {
   "cell_type": "code",
   "execution_count": 55,
   "id": "e697b0aa-61e1-4be0-a71e-7082a46aeb2d",
   "metadata": {},
   "outputs": [],
   "source": [
    "from langchain_community.chat_models import ChatOllama\n",
    "from langchain_core.messages import HumanMessage, SystemMessage\n",
    "from langchain_core.output_parsers import StrOutputParser\n",
    "from langchain_core.prompts import ChatPromptTemplate\n",
    "\n",
    "from langchain.callbacks.manager import CallbackManager\n",
    "from langchain.callbacks.streaming_stdout import StreamingStdOutCallbackHandler\n",
    "import time\n",
    "import json\n",
    "\n",
    "class ContactLLM:\n",
    "\n",
    "    def __init__(self, llm_name = \"llama3\"):\n",
    "        self.llm_name = llm_name\n",
    "        self.llm = ChatOllama(model = self.llm_name,\n",
    "                     format = \"json\",\n",
    "                     temperature = 1,\n",
    "                     num_gpu = 0, # To use CPU only\n",
    "                     # callback_manager = CallbackManager([StreamingStdOutCallbackHandler()]),\n",
    "                     max_new_tokens = 255,\n",
    "                     base_url=\"http://192.168.3.32:11000\"\n",
    "                )\n",
    "        self.messages = [\n",
    "                (\n",
    "                    \"system\",\"\"\"You are an agent tasked with extracting contact information (emails, phone and fax and whatsapp numbers) from a text of contact page. For example:\n",
    "                                Example (text of contact page) :\n",
    "                                    * Lanarkshire G32 8FG Telephone Number |&| 06 82 10 33 81 |&| News desk |&| 0141 302 7002 |&| abdelghaffour@gmail.com |&| fax : +971-3-3447111 |&| business with. or Newspaper Sales |&| mouhsine.abdo@usmba.ac.ma |&| Advertising - Kirsty McKinney - +212 682103381 | Craig Anderson - 0141 302 7133 | abdo@gmail.com |&| Digital Subscriptions - 0800 731 4900 (Mon-Fri, 9-5.30pm)*\n",
    "                                \n",
    "                                Your task is to extract the contact information and format it into the following JSON object:\n",
    "                                    [\n",
    "                                         \"emails\": [\"abdelghaffour@gmail.com\", \"mouhsine.abdo@usmba.ac.ma\", \"abdo@gmail.com\"],\n",
    "                                         \"phones\": [\"06 82 10 33 81\", \"0141 302 7002\", \"+971-3-3447111\", \"+212 682103381\", \"0141 302 7133\", \"0800 731 4900\"]\n",
    "                                    ]\n",
    "                                => Make sure the value of the key \"phones\" contain a phone, fax and whatsapp numbers.\n",
    "                                => Make sure to identify and extract the relevant information accurately.\n",
    "                                    \"\"\"\n",
    "                ),\n",
    "                (\n",
    "                    \"human\",\"\"\"Extract the contact information (emails, phones) and format it into a JSON object from the following text (Make sure  don't create an other key, juste 'emails' and 'phones' and the value of the key \"phones\" contain all phone, fax and whatsapp numbers in the text contact page) :\"\"\"\n",
    "                ),\n",
    "                (\n",
    "                    \"human\",\"{htmlCode}\"\n",
    "                )\n",
    "            ]\n",
    "\n",
    "        self.template = ChatPromptTemplate.from_messages(self.messages)\n",
    "        self.chain = self.template | self.llm | StrOutputParser()\n",
    "        \n",
    "    def predict(self, html_source_code, execution_time=False):\n",
    "        start = time.perf_counter()\n",
    "        response = self.chain.invoke({ \"htmlCode\": html_source_code })\n",
    "        end = time.perf_counter()\n",
    "        parsed_json = json.loads(response)\n",
    "        if execution_time :\n",
    "            parsed_json[\"execution_time\"] = f\"{end - start} s | {(end - start)/60} min\"\n",
    "        return parsed_json"
   ]
  },
  {
   "cell_type": "code",
   "execution_count": 1,
   "id": "ed32c81d-1553-4209-8e34-f32b5ed2366e",
   "metadata": {},
   "outputs": [],
   "source": [
    "from contactLLM.contactLLM import ContactLLM\n",
    "from contactLLM.pageProcessing import PageProcessing\n",
    "from contactLLM.sentenceProcessing import SentenceProcessing"
   ]
  },
  {
   "cell_type": "code",
   "execution_count": 2,
   "id": "500fca37-e0bc-4c03-8560-66052daa6829",
   "metadata": {},
   "outputs": [],
   "source": [
    "pageProcessing = PageProcessing()\n",
    "sentenceProcessing = SentenceProcessing()\n",
    "contactLLM = ContactLLM(_base_url=\"http://192.168.3.32:11000\")"
   ]
  },
  {
   "cell_type": "code",
   "execution_count": 3,
   "id": "0688cde7-0a3e-4842-8a3f-b10524bafb0b",
   "metadata": {},
   "outputs": [],
   "source": [
    "chunk = \"\"\"23,2024 CONNECT WITH US Contact Us Head Office EMAIL US info@nation.com.pk Shahrah e Fatima Jinnah, \n",
    "            Lahore - Pakistan CALL US T: +92(42)36367580 F: +92(42)36367005 Branch Offices Karachi Office info@nation.com.pk \n",
    "            Shamsheer, Phase V, D. H. S., Karachi - Pakistan T: +92(21)58437203 F: +92(21)5854932 Multan Office \n",
    "            info@nation.com.pk Nawaiwaqt House Abdali Road, Multan - Pakistan T: +92(61)5455714 F: +92(61)580958 \n",
    "            Islamabad Office info@nation.com.pk Nawaiwaqt House Zero Point, Islamabad - Pakistan T: +92(51)22026414 \n",
    "            F: +92(42)22026456 Contact Us Form Loading... Hajj 2024:31,057 Pakistani pilgrims reach Saudi Arabia 1:34 \n",
    "            PM | May 23,202412:28 PM | May 23,202412:08 PM | May 23,202412:01 NIPCO House, 4- Shaharah e Fatima Jinnah, \n",
    "            Lahore, Pakistan Tel: +924236367580 | Fax : +924236367005'\n",
    "            \"\"\""
   ]
  },
  {
   "cell_type": "code",
   "execution_count": 4,
   "id": "36c164bb-9411-4b01-bf66-2d9b9a2360fa",
   "metadata": {},
   "outputs": [
    {
     "data": {
      "text/plain": [
       "{'emails': ['info@nation.com.pk'],\n",
       " 'phones': ['+92(42)36367580',\n",
       "  '+92(42)36367005',\n",
       "  '+92(21)58437203',\n",
       "  '+92(21)5854932',\n",
       "  '+92(61)5455714',\n",
       "  '+92(61)580958',\n",
       "  '+92(51)22026414',\n",
       "  '+92(42)22026456'],\n",
       " 'execution_time': '109.35778345912695 s | 1.8226297243187826 min'}"
      ]
     },
     "execution_count": 4,
     "metadata": {},
     "output_type": "execute_result"
    }
   ],
   "source": [
    "contactLLM.predict(chunk, execution_time=True)"
   ]
  },
  {
   "cell_type": "code",
   "execution_count": null,
   "id": "9992f6bb-01ee-4197-ba20-7690e50b18d6",
   "metadata": {},
   "outputs": [],
   "source": []
  },
  {
   "cell_type": "code",
   "execution_count": null,
   "id": "687e1b34-41c5-4753-8e57-0d15f7a175dc",
   "metadata": {},
   "outputs": [],
   "source": []
  },
  {
   "cell_type": "code",
   "execution_count": null,
   "id": "d9b5038a-3fa6-43ca-b0a3-6dd718b547ac",
   "metadata": {},
   "outputs": [],
   "source": []
  },
  {
   "cell_type": "code",
   "execution_count": null,
   "id": "032c423b-bfc7-43ac-9c88-06702c44c5d3",
   "metadata": {},
   "outputs": [],
   "source": []
  },
  {
   "cell_type": "code",
   "execution_count": null,
   "id": "b6717e0f-5320-4830-84ba-7ae04d3757f8",
   "metadata": {},
   "outputs": [],
   "source": []
  },
  {
   "cell_type": "code",
   "execution_count": null,
   "id": "b0045d90-2e34-4fa7-b479-a6ec6d964bf9",
   "metadata": {},
   "outputs": [],
   "source": []
  },
  {
   "cell_type": "code",
   "execution_count": 3,
   "id": "052d2a4d-fff4-432b-b6c2-5aafeea4c7b6",
   "metadata": {},
   "outputs": [
    {
     "name": "stdout",
     "output_type": "stream",
     "text": [
      "Start get_source_page_from_url\n",
      "Execution time of get_source_page_from_url : 3.173569 seconds\n",
      "number of words in the source_page : 7774\n",
      "number of characters in the source_page : 110854\n",
      "----------------------------------------------------------------------------------------------------\n",
      "Start get_clean_html_from_source_page\n",
      "-----------> Vider le contenu de la balise <head>: -1782 deleted words\n",
      "-----------> supprimer les commentaires : 0 deleted words\n",
      "-----------> Supprimer les balises avec leur contenu : script, noscript, style, ul, form, table, footer :  -1392 deleted words\n",
      "-----------> Sélection et filtrer de toutes les balises <a>: -1806 deleted words\n",
      "Execution time of get_clean_html_from_source_page : 0.352242 seconds\n",
      "number of words in the clean_html : 263\n",
      "number of characters in the clean_html : 2808\n",
      "----------------------------------------------------------------------------------------------------\n"
     ]
    }
   ],
   "source": [
    "url = \"https://www.nation.com.pk/contact-us\"\n",
    "clean_html_text = pageProcessing.get_clean_html_from_url(url)"
   ]
  },
  {
   "cell_type": "code",
   "execution_count": 4,
   "id": "300889aa-4008-4369-ba2e-c77ca54b4da1",
   "metadata": {},
   "outputs": [
    {
     "name": "stdout",
     "output_type": "stream",
     "text": [
      "1\n",
      "['23,2024 CONNECT WITH US Contact Us Head Office EMAIL US info@nation.com.pk Shahrah e Fatima Jinnah, Lahore - Pakistan CALL US T: +92(42)36367580 F: +92(42)36367005 Branch Offices Karachi Office info@nation.com.pk Shamsheer, Phase V, D. H. S., Karachi - Pakistan T: +92(21)58437203 F: +92(21)5854932 Multan Office info@nation.com.pk Nawaiwaqt House Abdali Road, Multan - Pakistan T: +92(61)5455714 F: +92(61)580958 Islamabad Office info@nation.com.pk Nawaiwaqt House Zero Point, Islamabad - Pakistan T: +92(51)22026414 F: +92(42)22026456 Contact Us Form Loading... Hajj 2024:31,057 Pakistani pilgrims reach Saudi Arabia 1:34 PM | May 23,202412:28 PM | May 23,202412:08 PM | May 23,202412:01 NIPCO House, 4- Shaharah e Fatima Jinnah, Lahore, Pakistan Tel: +924236367580 | Fax : +924236367005']\n"
     ]
    }
   ],
   "source": [
    "chunks = sentenceProcessing.get_chunks_from_clean_html_text(clean_html_text)\n",
    "print(len(chunks))\n",
    "print(chunks)"
   ]
  },
  {
   "cell_type": "code",
   "execution_count": 5,
   "id": "2f90480f-852d-4deb-a37c-773a03838faf",
   "metadata": {},
   "outputs": [
    {
     "data": {
      "text/plain": [
       "{'emails': ['info@nation.com.pk'],\n",
       " 'phones': ['+92(42)36367580',\n",
       "  '+92(21)58437203',\n",
       "  '+92(61)5455714',\n",
       "  '+92(51)22026414',\n",
       "  '+92(42)36367005',\n",
       "  '+92(21)5854932',\n",
       "  '+92(61)580958',\n",
       "  '+924236367580'],\n",
       " 'execution_time': '63.807145146653056 s | 1.0634524191108843 min'}"
      ]
     },
     "execution_count": 5,
     "metadata": {},
     "output_type": "execute_result"
    }
   ],
   "source": [
    "contactLLM.predict(chunks[0], execution_time=True)"
   ]
  },
  {
   "cell_type": "markdown",
   "id": "8aeccc83-f3f0-4687-a09a-2693cf18f3e3",
   "metadata": {},
   "source": [
    "## PageProcessing (clean html text)"
   ]
  },
  {
   "cell_type": "code",
   "execution_count": 57,
   "id": "5a7da2d6-79a0-4a60-8b74-c4b9207b09b3",
   "metadata": {},
   "outputs": [],
   "source": [
    "from selenium import webdriver\n",
    "from selenium.webdriver.common.by import By\n",
    "from selenium.webdriver.support.ui import WebDriverWait\n",
    "from selenium.webdriver.support import expected_conditions as EC\n",
    "\n",
    "from bs4 import BeautifulSoup, Comment\n",
    "\n",
    "import time\n",
    "import csv\n",
    "\n",
    "import pandas as pd\n",
    "\n",
    "class PageProcessing:\n",
    "    def __init__(self):\n",
    "        # IP address and port and server of the Selenium hub and browser options\n",
    "        self.HUB_HOST = \"192.168.3.32\"\n",
    "        self.HUB_PORT = 4444\n",
    "        self.server = f\"http://{self.HUB_HOST}:{self.HUB_PORT}/wd/hub\"\n",
    "        self.options = webdriver.ChromeOptions()\n",
    "        self.driver = None\n",
    "        \n",
    "    def count_numbers(self, word):\n",
    "        i=0\n",
    "        word = word.split(' ')\n",
    "        word = ''.join(word)\n",
    "        for char in word:\n",
    "            if char.isdigit():\n",
    "                i += 1\n",
    "        return i\n",
    "        \n",
    "    def get_source_page_from_url(self, url):\n",
    "        try:\n",
    "            self.driver = webdriver.Remote(command_executor=self.server, options=self.options)\n",
    "\n",
    "            self.driver.get(url)\n",
    "\n",
    "            # Attendre que la page soit complètement chargée\n",
    "            wait = WebDriverWait(self.driver, 5)\n",
    "            wait.until(EC.presence_of_element_located((By.TAG_NAME, \"body\")))\n",
    "\n",
    "            source_page = self.driver.page_source\n",
    "            \n",
    "            self.driver.quit()\n",
    "            \n",
    "            return source_page\n",
    "        except Exception as e:\n",
    "            print(f\"Errooooooor : Une exception s'est produite : {e}\")\n",
    "            \n",
    "    def get_clean_html_from_source_page(self, source_page):\n",
    "        soup = BeautifulSoup(source_page, 'html.parser')\n",
    "\n",
    "        # Vider le contenu de la balise <head>\n",
    "        before = len(str(soup).split())\n",
    "        head_tag = soup.find('head')\n",
    "        head_tag.clear()\n",
    "        after = len(str(soup).split())\n",
    "        print(f\"-----------> Vider le contenu de la balise <head>: {after - before} deleted words\")\n",
    "\n",
    "        # supprimer les commentaires\n",
    "        before = len(str(soup).split())\n",
    "        comments = soup.find_all(string=lambda text: isinstance(text, Comment))\n",
    "        for comment in comments:\n",
    "            comment.extract()\n",
    "        after = len(str(soup).split())\n",
    "        print(f\"-----------> supprimer les commentaires : {after - before} deleted words\")\n",
    "        \n",
    "        # Supprimer les balises script... avec leur contenu\n",
    "        before = len(str(soup).split())\n",
    "        for script in soup([\"script\", \"noscript\", \"style\", \"img\",\"input\", \"textarea\"]):\n",
    "            script.extract()\n",
    "        after = len(str(soup).split())\n",
    "        print(f\"-----------> Supprimer les balises avec leur contenu : script, noscript, style, ul, form, table, footer :  {after - before} deleted words\")\n",
    "\n",
    "        # Supprimer les balises de formatage de text sans suppression du contenu de balise\n",
    "        # before = len(str(soup).split())\n",
    "        # for tag in soup([\"b\", \"strong\", \"i\", \"em\", \"u\", \"s\", \"sub\", \"sup\", \"small\", \"abbr\", \"mark\", \"del\", \"ins\", \"span\"]):\n",
    "        #     tag.unwrap()\n",
    "        # after = len(str(soup).split())\n",
    "        # print(f\"-----------> Supprimer les balises de formatage de text sans suppression du contenu de balise: {after - before} deleted words\")\n",
    "\n",
    "        # # Sélection de toutes les balises <a>\n",
    "        before = len(str(soup).split())\n",
    "        for tag in soup.find_all('a'):\n",
    "            if '@' not in tag.get_text() and '@' not in tag.get('href', '') and self.count_numbers(tag.get_text()) <= 8:\n",
    "                tag.extract()\n",
    "        after = len(str(soup).split())\n",
    "        print(f\"-----------> Sélection et filtrer de toutes les balises <a>: {after - before} deleted words\")\n",
    "\n",
    "        # Récupérer le HTML nettoyé\n",
    "        return soup.text\n",
    "\n",
    "    def get_clean_html_from_url(self, url):\n",
    "        print(\"Start get_source_page_from_url\")\n",
    "        start = time.perf_counter()\n",
    "        source_page = self.get_source_page_from_url(url)\n",
    "        end = time.perf_counter()\n",
    "        print(f\"Execution time of get_source_page_from_url : {end - start:.6f} seconds\")\n",
    "        print(f\"number of words in the source_page : {len(str(source_page).split())}\")\n",
    "        print(f\"number of characters in the source_page : {len(str(source_page))}\\n{'-'*100}\")\n",
    "\n",
    "        print(\"Start get_clean_html_from_source_page\")\n",
    "        start = time.perf_counter()\n",
    "        clean_html = self.get_clean_html_from_source_page(source_page)\n",
    "        end = time.perf_counter()\n",
    "        print(f\"Execution time of get_clean_html_from_source_page : {end - start:.6f} seconds\")\n",
    "        print(f\"number of words in the clean_html : {len( str(clean_html).split() )}\")\n",
    "        print(f\"number of characters in the clean_html : {len(str(clean_html))}\\n{'-'*100}\")\n",
    "\n",
    "        return clean_html"
   ]
  },
  {
   "cell_type": "code",
   "execution_count": null,
   "id": "a231914a-668f-4087-978e-8273bbcac4a6",
   "metadata": {},
   "outputs": [],
   "source": []
  },
  {
   "cell_type": "markdown",
   "id": "f00dc97c-fb44-4a8b-aff5-90559be20d7d",
   "metadata": {},
   "source": [
    "## SentenceProcessing (and chunking)"
   ]
  },
  {
   "cell_type": "code",
   "execution_count": 58,
   "id": "68446c84-ea3d-4f95-beb9-9bff4a135ef9",
   "metadata": {},
   "outputs": [],
   "source": [
    "class SentenceProcessing:\n",
    "    def __init__(self):\n",
    "        self.MIN_LENGTH_PHONE = 8\n",
    "        \n",
    "    def contains_letters(self, word):\n",
    "        return any(char.isalpha() for char in word)\n",
    "    \n",
    "    def contains_numbers(self, word):\n",
    "        return any(char.isdigit() for char in word)\n",
    "        \n",
    "    def count_numbers(self, word):\n",
    "        i=0\n",
    "        word = word.split(' ')\n",
    "        word = ''.join(word)\n",
    "        for char in word:\n",
    "            if char.isdigit():\n",
    "                i += 1\n",
    "        return i\n",
    "        \n",
    "    def is_phone(self, word):\n",
    "        return self.contains_numbers(word) and self.count_numbers(word) > self.MIN_LENGTH_PHONE\n",
    "        \n",
    "    def is_email(self,word):\n",
    "        return self.contains_letters(word) and '@' in word and '.' in word\n",
    "        \n",
    "    def get_text_elements(self, text, max_words_before_phone_number_or_email = 5):\n",
    "        splited_text = [ n.strip() for n in text.split('\\n') if (n.strip() != '')]\n",
    "        number_of_words_before_phone_or_email = 0\n",
    "        p_text_liste = []\n",
    "        for index, elem in enumerate(splited_text):\n",
    "            if (self.is_phone(elem) or ('@' in elem and '.' in elem)): # if elem contains phone number or email\n",
    "                if(number_of_words_before_phone_or_email==0):\n",
    "                    p_text_liste.append(elem)\n",
    "                else:\n",
    "                    last_elems_tokens = (\" \".join([elem_ for elem_ in splited_text[index-number_of_words_before_phone_or_email:index]])).split()\n",
    "                    last_min = min(max_words_before_phone_number_or_email, len(last_elems_tokens))\n",
    "                    p_text_liste.append(\" \".join(last_elems_tokens[-last_min:]))\n",
    "                    p_text_liste.append(elem)\n",
    "                number_of_words_before_phone_or_email = 0\n",
    "            else:\n",
    "                number_of_words_before_phone_or_email += 1\n",
    "        return p_text_liste\n",
    "\n",
    "    def word_process(self, word):\n",
    "        new_word = \"\"\n",
    "        if (self.contains_letters(word) or (not self.contains_numbers(word))) and ('@' not in word):\n",
    "            if word[0].isdigit():\n",
    "                last_type = \"digit\"\n",
    "            elif word[0].isalpha():\n",
    "                last_type = \"alpha\"\n",
    "            else:\n",
    "                last_type = \"other\"\n",
    "                \n",
    "            for i, char in enumerate(word):\n",
    "                if (char.isdigit() and last_type == \"digit\") or (char.isalpha() and last_type == \"alpha\"): # the same type\n",
    "                    new_word += char\n",
    "                elif char.isdigit() and last_type != \"digit\":\n",
    "                    new_word += \" \" + char\n",
    "                    last_type = \"digit\"\n",
    "                elif char.isalpha() and last_type != \"alpha\":\n",
    "                    new_word += \" \" + char\n",
    "                    last_type = \"alpha\"\n",
    "                    \n",
    "                else : # char is other\n",
    "                    if last_type == \"alpha\" and (char not in [\"+\",\"-\",\"(\"]):\n",
    "                        new_word += char\n",
    "                        last_type = \"other\"\n",
    "                        \n",
    "                    elif last_type == \"digit\" :\n",
    "                        new_word += char\n",
    "                        last_type = \"other\"\n",
    "                        \n",
    "                    elif last_type == \"other\" and (len(new_word)>0 and (new_word[-1] not in [\":\",\",\",\"،\",\".\",\"?\",\"!\"]) or (char in [\":\",\",\",\"،\",\".\",\"?\",\"!\"])):\n",
    "                        new_word += char\n",
    "                    else:\n",
    "                        new_word += \" \" + char\n",
    "                        last_type = \"other\"\n",
    "        else:\n",
    "            new_word = word\n",
    "        return new_word.strip()\n",
    "        \n",
    "    def sentence_process(self, text_elements) :\n",
    "        new_text_elements = []\n",
    "        for sentence in text_elements:\n",
    "            words = sentence.split(' ')\n",
    "            new_words = []\n",
    "            for word in words:\n",
    "                if word != '':\n",
    "                    new_word = self.word_process(word)\n",
    "                    if new_word != '':\n",
    "                        for wrd in new_word.split(' '):\n",
    "                            new_words.append(wrd)\n",
    "                        \n",
    "            new_sentence = \"\"\n",
    "            for index, word in enumerate(new_words):\n",
    "                if not self.contains_letters(word):  # word = number or [+ ( ) - . , ...]\n",
    "                    if len(new_sentence) > 0 :\n",
    "                        if self.contains_letters(new_sentence.split(' ')[-1]) : # or (not self.contains_numbers(new_sentence.split(' ')[-1])) or (not self.contains_numbers(word))\n",
    "                            new_sentence += \" \"+word\n",
    "                        # if two numbers\n",
    "                        elif self.contains_numbers(new_sentence.split(' ')[-1]) and self.count_numbers(new_sentence.split(' ')[-1]) > self.MIN_LENGTH_PHONE and self.count_numbers(word) > self.MIN_LENGTH_PHONE :\n",
    "                            new_sentence += \" \"+word\n",
    "                        # if number with number or with [+ ( ) - . , ...]\n",
    "                        else:\n",
    "                            new_sentence += word\n",
    "                    else:\n",
    "                        new_sentence += word\n",
    "                else :\n",
    "                    if len(new_sentence) > 0 :\n",
    "                        new_sentence += \" \"+word\n",
    "                    else :\n",
    "                        new_sentence += word\n",
    "            \n",
    "            new_text_elements.append(new_sentence.strip())\n",
    "        return new_text_elements\n",
    "        \n",
    "    def clean_phone(self,text_elements):\n",
    "        new_text_elements = []\n",
    "        for sentence in text_elements:\n",
    "            sentence_list = sentence.split(' ')\n",
    "            new_sentence_list = []\n",
    "            for word in sentence_list:\n",
    "                new_phone_number = word\n",
    "                if self.is_phone(word): # word == phone number\n",
    "                    start_index = -1;\n",
    "                    end_index = -1\n",
    "                    len_phone = len(word)\n",
    "                    for i, char in enumerate(word):\n",
    "                        if ( char.isdigit() or char in [\"+\",\"(\",\"-\"] ) and start_index == -1:\n",
    "                            start_index = i\n",
    "                            \n",
    "                        if ( word[len_phone-1 - i].isdigit() or word[len_phone-1 - i] == \")\" ) and end_index == -1:\n",
    "                            end_index = len_phone - i\n",
    "                            \n",
    "                        if start_index != -1 and end_index != -1:\n",
    "                            break\n",
    "                            \n",
    "                    new_phone_number= word[start_index:end_index]\n",
    "                    if start_index != 0:\n",
    "                        new_phone_number = word[0:start_index] + \" \" + new_phone_number\n",
    "                    if end_index != len_phone :\n",
    "                        new_phone_number += \" \" + word[end_index:len_phone]\n",
    "                        \n",
    "                new_sentence_list.append(new_phone_number)\n",
    "                \n",
    "            new_text_elements.append((\" \".join(new_sentence_list)).strip())\n",
    "        return new_text_elements\n",
    "    \n",
    "    def reduce_words_before_phone_and_email(self, liste_elements, max_words_bitween_phones_emails = 10):\n",
    "        new_liste_elements = []\n",
    "        number_of_words_before_phone_or_email = 0\n",
    "        for elem in liste_elements:\n",
    "            liste_words_at_elem = elem.split()\n",
    "            new_liste_words_at_elem = []\n",
    "            for index, word in enumerate(liste_words_at_elem):\n",
    "                if self.is_phone(word) or self.is_email(word) : # word in elem is a phone or an email\n",
    "                    if (number_of_words_before_phone_or_email <= index) : # add juste words in the same elem\n",
    "                        min_number_before = min(number_of_words_before_phone_or_email, max_words_bitween_phones_emails)\n",
    "                        for wrd in liste_words_at_elem[index-min_number_before: index+1]:\n",
    "                            new_liste_words_at_elem.append(wrd)\n",
    "                    else:  # add words in the same elem and in the previous elem ( if the previous elem does not contain phone or email )\n",
    "                        if index >= max_words_bitween_phones_emails:\n",
    "                            for wrd in liste_words_at_elem[index-max_words_bitween_phones_emails: index+1]:\n",
    "                                new_liste_words_at_elem.append(wrd)\n",
    "                            if not (self.is_phone(new_liste_elements[-1]) or self.is_email(new_liste_elements[-1])):\n",
    "                                new_liste_elements.pop()\n",
    "                        else:\n",
    "                            for wrd in liste_words_at_elem[0: index+1]:\n",
    "                                new_liste_words_at_elem.append(wrd)\n",
    "                                \n",
    "                    number_of_words_before_phone_or_email = 0\n",
    "                else:                                           # word in elem is not a phone and not an email\n",
    "                    number_of_words_before_phone_or_email += 1\n",
    "                    \n",
    "            if not new_liste_words_at_elem:\n",
    "                if new_liste_elements :\n",
    "                    if not any([ self.is_phone(wrd) or self.is_email(wrd) for wrd in new_liste_elements[-1].split()]) :\n",
    "                        new_liste_elements.pop()\n",
    "                new_liste_elements.append(elem)\n",
    "            else:\n",
    "                new_liste_elements.append(\" \".join(new_liste_words_at_elem))\n",
    "        return new_liste_elements\n",
    "        \n",
    "    def extract_chunks(self, p_text_liste, max_len_chunk = 200, pad = 6):\n",
    "        new_text = ' |&| '.join(p_text_liste)\n",
    "        text_list = new_text.split()\n",
    "        len_text_list = len(text_list)\n",
    "        n_chunks= int(len_text_list / max_len_chunk) + 1\n",
    "        chunks = []\n",
    "        for i in range(n_chunks):\n",
    "            if i == 0:\n",
    "                start = i*max_len_chunk\n",
    "                end = min((i+1)*max_len_chunk,len_text_list)\n",
    "            else:\n",
    "                start = end - pad\n",
    "                end = min(((i+1)*max_len_chunk) - pad , len_text_list)\n",
    "                \n",
    "            chunk = text_list[start:end]\n",
    "            chunks.append(' '.join(chunk))\n",
    "            \n",
    "            if i == n_chunks-1 and end != len_text_list and len(chunk)==max_len_chunk:\n",
    "                start = end - pad\n",
    "                end = len_text_list\n",
    "                chunk = text_list[start:end]\n",
    "                chunks.append(' '.join(chunk))\n",
    "        return chunks\n",
    "\n",
    "    def get_chunks_from_clean_html_text(self, clean_html):\n",
    "        text_elements = self.get_text_elements(clean_html)\n",
    "        text_elements = self.sentence_process(text_elements)\n",
    "        text_elements = self.clean_phone(text_elements)\n",
    "        text_elements = self.reduce_words_before_phone_and_email(text_elements, max_words_bitween_phones_emails=10)\n",
    "        chunks = self.extract_chunks(text_elements)\n",
    "        return chunks"
   ]
  },
  {
   "cell_type": "code",
   "execution_count": 59,
   "id": "3b610d00-b32e-4da6-b78d-cc8641fa783c",
   "metadata": {},
   "outputs": [],
   "source": [
    "pageProcessing = PageProcessing()"
   ]
  },
  {
   "cell_type": "code",
   "execution_count": 5,
   "id": "67d91b43-2a1c-4cde-9acb-aea70d10ce43",
   "metadata": {},
   "outputs": [],
   "source": [
    "urls = [\"https://gulfnews.com/contact-us\",\n",
    "        \"https://www.heraldscotland.com/contact/\",\n",
    "        \"https://www.koreatimes.co.kr/www2/common/contactus.asp\",\n",
    "        \"https://menafn.com/mf_contact.aspx\",\n",
    "        \"https://middle-east-online.com/contact\",\n",
    "        \"https://www.miningweekly.com/page/about-us\",\n",
    "        \"https://www.mirror.co.uk/contact-us/\",\n",
    "        \"https://www.monitor.co.ug/uganda/contact-us-1934576\",\n",
    "        \"https://www.nation.com.pk/contact-us\"]"
   ]
  },
  {
   "cell_type": "code",
   "execution_count": 102,
   "id": "29ff49c2-fb17-4810-b447-3ba895441aa4",
   "metadata": {},
   "outputs": [
    {
     "name": "stdout",
     "output_type": "stream",
     "text": [
      "Start get_source_page_from_url\n",
      "Execution time of get_source_page_from_url : 3.288771 seconds\n",
      "number of words in the source_page : 7774\n",
      "number of characters in the source_page : 110842\n",
      "----------------------------------------------------------------------------------------------------\n",
      "Start get_clean_html_from_source_page\n",
      "-----------> Vider le contenu de la balise <head>: -1782 deleted words\n",
      "-----------> supprimer les commentaires : 0 deleted words\n",
      "-----------> Supprimer les balises avec leur contenu : script, noscript, style, ul, form, table, footer :  -1392 deleted words\n",
      "-----------> Sélection et filtrer de toutes les balises <a>: -1806 deleted words\n",
      "Execution time of get_clean_html_from_source_page : 0.358920 seconds\n",
      "number of words in the clean_html : 263\n",
      "number of characters in the clean_html : 2808\n",
      "----------------------------------------------------------------------------------------------------\n",
      "https://www.nation.com.pk/contact-us\n"
     ]
    },
    {
     "data": {
      "text/plain": [
       "'             nawaiwaqt group                                      Thursday, May 23, 2024                                                                                                                             CONNECT WITH US                                                                               Contact Us           Head Office      EMAIL US       info@nation.com.pk      VISIT US       NIPCO House 23 Shahrah e Fatima Jinnah, Lahore - Pakistan      CALL US       T: +92 (42) 3636 7580 F: +92 (42) 3636 7005       Branch Offices      Karachi Office       info@nation.com.pk        Khayaban-e-Shamsheer, Phase V, D.H.S., Karachi - Pakistan        T: +92 (21) 5843 7203 F: +92 (21) 5854 932      Multan Office       info@nation.com.pk        Nawaiwaqt House Abdali Road, Multan - Pakistan        T: +92 (61) 545 5714 F: +92 (61) 580 958      Islamabad Office       info@nation.com.pk        Nawaiwaqt House Zero Point, Islamabad - Pakistan        T: +92 (51) 2202 6414 F: +92 (42) 2202 6456       Contact Us Form    Loading...               Hajj 2024: 31,057 Pakistani pilgrims reach Saudi Arabia     1:34 PM | May 23, 2024            12:28 PM | May 23, 2024            12:08 PM | May 23, 2024            12:01 PM | May 23, 2024            May 23, 2024                                    \\xa0             \\xa0             \\xa0             \\xa0             \\xa0                                    by    May 23, 2024    \\xa0                          by    May 23, 2024    \\xa0                          by    May 23, 2024    \\xa0                          by    May 22, 2024    \\xa0                          by    May 22, 2024    \\xa0                ePaper                               by    May 21, 2024    \\xa0                          by    May 18, 2024    \\xa0                          by    May 09, 2024    \\xa0                          by    May 09, 2024    \\xa0                          by    April 24, 2024    \\xa0                                     May 19, 2024                         May 23, 2024            May 23, 2024            May 23, 2024            May 22, 2024            May 22, 2024                        May 23, 2024            May 23, 2024            May 23, 2024            May 22, 2024            May 22, 2024           ePaper - Nawaiwaqt                          Newsletter Subscription                      Latest Highlights        Follow Us                Advertisement            Contact Us      NIPCO House, 4 - Shaharah e Fatima Jinnah,  Lahore, Pakistan Tel: +92 42 36367580 \\xa0\\xa0 | \\xa0 \\xa0 Fax : +92 42 36367005                              Nawaiwaqt Group | Copyright © 2024                                                                                                                                                      Nawaiwaqt Group | Copyright © 2024                             HistoryClose | Clear History  '"
      ]
     },
     "execution_count": 102,
     "metadata": {},
     "output_type": "execute_result"
    }
   ],
   "source": [
    "j = 8\n",
    "clean_html = pageProcessing.get_clean_html_from_url(urls[j])\n",
    "print(urls[j])\n",
    "clean_html"
   ]
  },
  {
   "cell_type": "code",
   "execution_count": 103,
   "id": "76ce768a-633a-4821-8379-6da0b8dd43bc",
   "metadata": {},
   "outputs": [],
   "source": [
    "sentenceProcessing = SentenceProcessing()"
   ]
  },
  {
   "cell_type": "code",
   "execution_count": 104,
   "id": "4467b2e9-bc8c-4d2c-98a0-ed5f1adf36ec",
   "metadata": {},
   "outputs": [
    {
     "name": "stdout",
     "output_type": "stream",
     "text": [
      "1\n",
      "['23,2024 CONNECT WITH US Contact Us Head Office EMAIL US info@nation.com.pk Shahrah e Fatima Jinnah, Lahore - Pakistan CALL US T: +92(42)36367580 F: +92(42)36367005 Branch Offices Karachi Office info@nation.com.pk Shamsheer, Phase V, D. H. S., Karachi - Pakistan T: +92(21)58437203 F: +92(21)5854932 Multan Office info@nation.com.pk Nawaiwaqt House Abdali Road, Multan - Pakistan T: +92(61)5455714 F: +92(61)580958 Islamabad Office info@nation.com.pk Nawaiwaqt House Zero Point, Islamabad - Pakistan T: +92(51)22026414 F: +92(42)22026456 Contact Us Form Loading... Hajj 2024:31,057 Pakistani pilgrims reach Saudi Arabia 1:34 PM | May 23,202412:28 PM | May 23,202412:08 PM | May 23,202412:01 NIPCO House, 4- Shaharah e Fatima Jinnah, Lahore, Pakistan Tel: +924236367580 | Fax : +924236367005']\n"
     ]
    }
   ],
   "source": [
    "chunks = sentenceProcessing.get_chunks_from_clean_html_text(clean_html)\n",
    "print(len(chunks))\n",
    "print(chunks)"
   ]
  },
  {
   "cell_type": "code",
   "execution_count": null,
   "id": "331f610b-8df7-4c14-863b-fd4a27334424",
   "metadata": {},
   "outputs": [],
   "source": []
  },
  {
   "cell_type": "code",
   "execution_count": 82,
   "id": "72457606-725a-49af-8ad6-eca19365b367",
   "metadata": {},
   "outputs": [],
   "source": [
    "contactLLM = ContactLLM()"
   ]
  },
  {
   "cell_type": "code",
   "execution_count": 90,
   "id": "b4950d7a-a4a0-4edd-9da0-ddf52bb1affb",
   "metadata": {},
   "outputs": [
    {
     "data": {
      "text/plain": [
       "{'emails': ['info@nation.com.pk'],\n",
       " 'phones': ['+92(42)36367580',\n",
       "  '+92(21)58437203',\n",
       "  '+92(61)5455714',\n",
       "  '+92(51)22026414',\n",
       "  '+924236367580',\n",
       "  '+924236367005'],\n",
       " 'execution_time': '47.79198436066508 s | 0.7965330726777514 min'}"
      ]
     },
     "execution_count": 90,
     "metadata": {},
     "output_type": "execute_result"
    }
   ],
   "source": [
    "contactLLM.predict(chunks[0], execution_time=True)"
   ]
  },
  {
   "cell_type": "code",
   "execution_count": null,
   "id": "97846623-632a-49f8-a842-768b5642cff9",
   "metadata": {},
   "outputs": [],
   "source": []
  },
  {
   "cell_type": "code",
   "execution_count": null,
   "id": "765e14d3-9e3e-4096-84b7-210a7cb17e89",
   "metadata": {},
   "outputs": [],
   "source": []
  }
 ],
 "metadata": {
  "kernelspec": {
   "display_name": "Python 3 (ipykernel)",
   "language": "python",
   "name": "python3"
  },
  "language_info": {
   "codemirror_mode": {
    "name": "ipython",
    "version": 3
   },
   "file_extension": ".py",
   "mimetype": "text/x-python",
   "name": "python",
   "nbconvert_exporter": "python",
   "pygments_lexer": "ipython3",
   "version": "3.11.6"
  }
 },
 "nbformat": 4,
 "nbformat_minor": 5
}
