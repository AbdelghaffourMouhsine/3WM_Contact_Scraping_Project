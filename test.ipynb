{
 "cells": [
  {
   "cell_type": "code",
   "execution_count": 1,
   "id": "c33d290a-80b3-4b50-bbac-5da2d0363423",
   "metadata": {},
   "outputs": [],
   "source": [
    "from contactLLM.pageProcessing import PageProcessing\n",
    "from contactLLM.contactLLM import ContactLLM\n",
    "from contactLLM.sentenceProcessing import SentenceProcessing\n",
    "\n",
    "pageProcessing = PageProcessing()\n",
    "contactLLM = ContactLLM()\n",
    "sentenceProcessing = SentenceProcessing()\n",
    "\n",
    "url = \"https://gulfnews.com/contact-us\""
   ]
  },
  {
   "cell_type": "code",
   "execution_count": null,
   "id": "dc9ded62-8cae-4fac-9695-2e10ceb8fc4b",
   "metadata": {},
   "outputs": [],
   "source": [
    "html = pageProcessing.get_source_page_from_url(url)"
   ]
  },
  {
   "cell_type": "code",
   "execution_count": 4,
   "id": "5d77e5ec-fe57-4074-868a-72810e0b16ee",
   "metadata": {},
   "outputs": [
    {
     "data": {
      "text/plain": [
       "{'emails': ['readers@gulfnews.com',\n",
       "  'DigitalSubscriptions@gulfnews.com',\n",
       "  'circul@gulfnews.com',\n",
       "  'digitaladvt@gulfnews.com',\n",
       "  'feedback@gulfnews.com'],\n",
       " 'phones': ['044067666',\n",
       "  '600599901',\n",
       "  '0505591961',\n",
       "  '600587234',\n",
       "  '+971-4-3447100',\n",
       "  '+971-4-3441627',\n",
       "  '0565245977'],\n",
       " 'execution_times': ['40.01628085318953 s | 0.6669380142198255 min'],\n",
       " 'nb_chunks': 1}"
      ]
     },
     "execution_count": 4,
     "metadata": {},
     "output_type": "execute_result"
    }
   ],
   "source": [
    "contactLLM.get_contact_informations(html)"
   ]
  },
  {
   "cell_type": "code",
   "execution_count": null,
   "id": "4a51172d-eb31-4678-85eb-aa9af54d55b6",
   "metadata": {},
   "outputs": [],
   "source": []
  },
  {
   "cell_type": "code",
   "execution_count": 3,
   "id": "a591065f-1bb0-4324-9388-aa831ac672f4",
   "metadata": {},
   "outputs": [
    {
     "name": "stderr",
     "output_type": "stream",
     "text": [
      "/opt/conda/lib/python3.11/site-packages/transformers/utils/generic.py:260: UserWarning: torch.utils._pytree._register_pytree_node is deprecated. Please use torch.utils._pytree.register_pytree_node instead.\n",
      "  torch.utils._pytree._register_pytree_node(\n",
      "/opt/conda/lib/python3.11/site-packages/transformers/utils/generic.py:260: UserWarning: torch.utils._pytree._register_pytree_node is deprecated. Please use torch.utils._pytree.register_pytree_node instead.\n",
      "  torch.utils._pytree._register_pytree_node(\n",
      "/opt/conda/lib/python3.11/site-packages/huggingface_hub/file_download.py:1132: FutureWarning: `resume_download` is deprecated and will be removed in version 1.0.0. Downloads always resume when possible. If you want to force a new download, use `force_download=True`.\n",
      "  warnings.warn(\n"
     ]
    }
   ],
   "source": [
    "from nerPhoneModel.phoneModel import PhoneModel\n",
    "\n",
    "model = PhoneModel()"
   ]
  },
  {
   "cell_type": "code",
   "execution_count": 4,
   "id": "9cb12306-fe31-4e95-8485-f7e07edeed20",
   "metadata": {},
   "outputs": [
    {
     "data": {
      "text/plain": [
       "['600587234',\n",
       " '10565245977',\n",
       " '600599901',\n",
       " '044067666',\n",
       " '0505591961',\n",
       " '+971-4-3441627',\n",
       " '+971-4-3447100']"
      ]
     },
     "execution_count": 4,
     "metadata": {},
     "output_type": "execute_result"
    }
   ],
   "source": [
    "model.get_phone_numbers(html)"
   ]
  },
  {
   "cell_type": "code",
   "execution_count": null,
   "id": "1e7e4113-cdf9-467f-bc35-db7eee46ef91",
   "metadata": {},
   "outputs": [],
   "source": []
  }
 ],
 "metadata": {
  "kernelspec": {
   "display_name": "Python 3 (ipykernel)",
   "language": "python",
   "name": "python3"
  },
  "language_info": {
   "codemirror_mode": {
    "name": "ipython",
    "version": 3
   },
   "file_extension": ".py",
   "mimetype": "text/x-python",
   "name": "python",
   "nbconvert_exporter": "python",
   "pygments_lexer": "ipython3",
   "version": "3.11.6"
  }
 },
 "nbformat": 4,
 "nbformat_minor": 5
}
