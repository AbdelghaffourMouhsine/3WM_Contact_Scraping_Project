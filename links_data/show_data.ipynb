{
 "cells": [
  {
   "cell_type": "code",
   "execution_count": 2,
   "id": "92cc01f0-87e0-4dac-a8d6-725d3d55fc20",
   "metadata": {},
   "outputs": [],
   "source": [
    "import pandas as pd\n",
    "class SharedListURLs:\n",
    "    def __init__(self):\n",
    "        self.allURLs = ['https://aujourdhui.ma/contact',\n",
    "                        \"https://lematin.ma/contact\",\n",
    "                        \"\"\n",
    "                       ]\n",
    "        self.data = []\n",
    "        self.nb_URLs=len(self.allURLs)\n",
    "        \n",
    "    def load_data(self) :\n",
    "        file_xslx_name = \"./WebSites.xlsx\"\n",
    "\n",
    "        def url_processing(url):\n",
    "            if url.startswith(\"http//\"):\n",
    "                return url.replace(\"http//\", \"http://\")\n",
    "            elif url.startswith(\"https//\"):\n",
    "                return url.replace(\"https//\", \"https://\")\n",
    "            elif not url.startswith(\"http://\") and not url.startswith(\"https://\"):\n",
    "                return \"https://\" + url\n",
    "            else:\n",
    "                return url\n",
    "\n",
    "        df = pd.read_excel(file_xslx_name)\n",
    "        \n",
    "        df['url'] = df['domain'].apply(url_processing)\n",
    "\n",
    "        self.allURLs = df['url'].tolist()\n",
    "        self.nb_URLs = len(self.allURLs)\n",
    "        \n",
    "    def select_data(self, start, end):\n",
    "        if end < self.nb_URLs:\n",
    "            self.data = self.allURLs[start:end]\n",
    "        else:\n",
    "            self.data = self.allURLs[start:self.nb_URLs]"
   ]
  },
  {
   "cell_type": "code",
   "execution_count": 15,
   "id": "381df600-a785-4a74-bc60-45faa1951a89",
   "metadata": {},
   "outputs": [
    {
     "data": {
      "text/plain": [
       "['http://miningweekly.com/',\n",
       " 'https://www.mirror.co.uk',\n",
       " 'https://www.monitor.co.ug',\n",
       " 'https://www.nation.co.ke',\n",
       " 'https://www.nation.com.pk']"
      ]
     },
     "execution_count": 15,
     "metadata": {},
     "output_type": "execute_result"
    }
   ],
   "source": [
    "i = 150\n",
    "shared_list = SharedListURLs()\n",
    "shared_list.load_data()\n",
    "shared_list.select_data(i, i+5)\n",
    "shared_list.data"
   ]
  },
  {
   "cell_type": "code",
   "execution_count": null,
   "id": "f9178954-0907-4590-8317-8e1c06c60d2d",
   "metadata": {},
   "outputs": [],
   "source": []
  }
 ],
 "metadata": {
  "kernelspec": {
   "display_name": "Python 3 (ipykernel)",
   "language": "python",
   "name": "python3"
  },
  "language_info": {
   "codemirror_mode": {
    "name": "ipython",
    "version": 3
   },
   "file_extension": ".py",
   "mimetype": "text/x-python",
   "name": "python",
   "nbconvert_exporter": "python",
   "pygments_lexer": "ipython3",
   "version": "3.11.6"
  }
 },
 "nbformat": 4,
 "nbformat_minor": 5
}
