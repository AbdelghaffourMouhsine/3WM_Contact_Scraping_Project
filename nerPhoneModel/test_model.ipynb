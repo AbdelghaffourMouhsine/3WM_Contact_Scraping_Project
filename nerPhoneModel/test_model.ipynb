{
 "cells": [
  {
   "cell_type": "code",
   "execution_count": 1,
   "id": "98a8bb78-d0b6-400e-ae13-34e22a0604d6",
   "metadata": {},
   "outputs": [
    {
     "name": "stderr",
     "output_type": "stream",
     "text": [
      "/opt/conda/lib/python3.11/site-packages/transformers/utils/generic.py:260: UserWarning: torch.utils._pytree._register_pytree_node is deprecated. Please use torch.utils._pytree.register_pytree_node instead.\n",
      "  torch.utils._pytree._register_pytree_node(\n",
      "/opt/conda/lib/python3.11/site-packages/transformers/utils/generic.py:260: UserWarning: torch.utils._pytree._register_pytree_node is deprecated. Please use torch.utils._pytree.register_pytree_node instead.\n",
      "  torch.utils._pytree._register_pytree_node(\n",
      "/opt/conda/lib/python3.11/site-packages/huggingface_hub/file_download.py:1132: FutureWarning: `resume_download` is deprecated and will be removed in version 1.0.0. Downloads always resume when possible. If you want to force a new download, use `force_download=True`.\n",
      "  warnings.warn(\n"
     ]
    }
   ],
   "source": [
    "from buildCustomData import BuildCustomData\n",
    "from phoneModel import PhoneModel\n",
    "import time\n",
    "\n",
    "buildCustomData = BuildCustomData()\n",
    "model = PhoneModel()"
   ]
  },
  {
   "cell_type": "code",
   "execution_count": 8,
   "id": "8921e40f-2555-428f-898b-c2e66797fdd4",
   "metadata": {},
   "outputs": [
    {
     "data": {
      "text/plain": [
       "'adoptés En direct Le GIPAM présente le programme du Salon Moroccan Automotive Technologies 2024| Marocains détenus à Myanmar ouverture d une enquête judiciaire confiée à la BNPJ L Info en Face avec Salma Benaddou Marocains détenus à Myanmar L ambassade du Maroc multiplie les démarches pour aider les victimes Busway Tramway de Casablanca voici les nouveaux prix adoptés En direct Le GIPAM présente le programme du Salon Moroccan Automotive Technologies 2024| Marocains détenus à Myanmar ouverture d une enquête judiciaire confiée à la BNPJ L Info en Face avec Salma Benaddou Marocains détenus à Myanmar L ambassade du Maroc multiplie les démarches pour aider les victimes Busway Tramway de Casablanca voici les nouveaux prix adoptés En direct Le GIPAM présente le programme du Salon Moroccan Automotive Technologies 2024| Rédaction Administration 17, Rue Othmane Ben Affane -20.000 Casablanca Maroc Tél +212.522.48.91.00 Fax +212.522.20.30.48 Email redactions lematinma Publicité 17, Rue Othmane Ben Affane -20.000 Casablanca Maroc Tél +212.522.48.91.58 Petites annonces 88, Boulevard Mohammed V -20.000 Casablanca Maroc Du Lundi au Vendredi 08 h à 17 h 30- Samedi 09 h à 12 h 30 Tél +212.522.26.88.60 Retrouvez les coordonnées de toutes nos agences Nous écrire Nom et prénom Email Téléphone Objet du message Votre Message Envoyer Conformément à la loi 09-08, vous disposez d un droit d accès de rectification et d opposition au traitement de vos données personnelles que vous pouvez exercer en envoyant un mail à support lematinma Les récépissés de la CNDP des déclarations des traitements des données personnelles sont les suivants N D W -02/2015. Dernière Heure 09:31 Entretien téléphonique entre Nasser Bourita et le ministre serbe des AE 20:45 L Info en Face avec Salma Benaddou 20:45 Marocains détenus à Myanmar ouverture d une +0638483920'"
      ]
     },
     "execution_count": 8,
     "metadata": {},
     "output_type": "execute_result"
    }
   ],
   "source": [
    "sentences = [\"Je suis en retard, appelez-moi au (+212)6.12-34.56.78 et 06.67.89.90.00 dès que possible.\",\n",
    "            \"Je suis en retard, appelez-moi au 06.12.34.56.78 et sur le fix +051273195578 dès que possible.\",\n",
    "            \"Je suis en retard, appelez-moi au 0612345678 et l'autre nemuro c'est 051273195578 dès que possible.\",\n",
    "            \"\"\"niveau des ministères des AE | Rédaction & Administration 17, Rue Othmane Ben Affane - 20.000 Casablanca, \n",
    "            Maroc Tél. : +212.522.48.91.00 Fax. : +212.522.20.30.48 Email : redactions@lematin.ma Publicité 17, \n",
    "            Rue Othmane Ben Affane - 20.000 Casablanca, Maroc Tél. : +212.522.48.91.58 Petites annonces 88, \n",
    "            Boulevard Mohammed V may 24/05/2024 Casablanca, Maroc.\"\"\",\n",
    "            \"\"\"23,2024 CONNECT WITH US Contact Us Head Office EMAIL US info@nation.com.pk Shahrah e Fatima Jinnah, \n",
    "            Lahore - Pakistan CALL US T: +92(42)36367580 F: +92(42)36367005 Branch Offices Karachi Office info@nation.com.pk \n",
    "            Shamsheer, Phase V, D. H. S., Karachi - Pakistan T: +92(21)58437203 F: +92(21)5854932 Multan Office \n",
    "            info@nation.com.pk Nawaiwaqt House Abdali Road, Multan - Pakistan T: +92(61)5455714 F: +92(61)580958 \n",
    "            Islamabad Office info@nation.com.pk Nawaiwaqt House Zero Point, Islamabad - Pakistan T: +92(51)22026414 \n",
    "            F: +92(42)22026456 Contact Us Form Loading... Hajj 2024:31,057 Pakistani pilgrims reach Saudi Arabia 1:34 \n",
    "            PM | May 23,202412:28 PM | May 23,202412:08 PM | May 23,202412:01 NIPCO House, 4- Shaharah e Fatima Jinnah, \n",
    "            Lahore, Pakistan Tel: +924236367580 | Fax : +924236367005'\n",
    "            \"\"\",\n",
    "            \"\"\"\n",
    "            adoptés | En direct : Le GIPAM présente le programme du Salon Moroccan Automotive Technologies 2024 | \n",
    "            Marocains détenus à Myanmar : ouverture d'une enquête judiciaire confiée à la BNPJ | L'Info en Face \n",
    "            avec Salma Benaddou | Marocains détenus à Myanmar : L’ambassade du Maroc multiplie les démarches pour\n",
    "            aider les victimes | Busway-Tramway de Casablanca : voici les nouveaux prix adoptés | En direct : \n",
    "            Le GIPAM présente le programme du Salon Moroccan Automotive Technologies 2024 | Marocains détenus à \n",
    "            Myanmar : ouverture d'une enquête judiciaire confiée à la BNPJ | L'Info en Face avec Salma Benaddou \n",
    "            | Marocains détenus à Myanmar : L’ambassade du Maroc multiplie les démarches pour aider les victimes \n",
    "            | Busway-Tramway de Casablanca : voici les nouveaux prix adoptés | En direct : Le GIPAM présente \n",
    "            le programme du Salon Moroccan Automotive Technologies 2024 | Rédaction & Administration 17, Rue \n",
    "            Othmane Ben Affane - 20.000 Casablanca, Maroc Tél. : +212.522.48.91.00 Fax. : +212.522.20.30.48 \n",
    "            Email : redactions@lematin.ma Publicité 17, Rue Othmane Ben Affane - 20.000 Casablanca, Maroc \n",
    "            Tél. : +212.522.48.91.58 Petites annonces 88, Boulevard Mohammed V - 20.000 Casablanca, Maroc - \n",
    "            Du Lundi au Vendredi : 08h à 17h30 - Samedi : 09h à 12h30 Tél. : +212.522.26.88.60 Retrouvez les \n",
    "            coordonnées de toutes nos agences. Nous écrire Nom et prénom* Email* Téléphone Objet du message* \n",
    "            Votre Message Envoyer Conformément à la loi 09-08, vous disposez d'un droit d'accès, de rectification \n",
    "            et d'opposition au traitement de vos données personnelles que vous pouvez exercer en envoyant un \n",
    "            mail à support@lematin.ma. Les récépissés de la CNDP des déclarations des traitements des données \n",
    "            personnelles sont les suivants N° : D-W-02/2015. Dernière Heure 09:31 Entretien téléphonique entre \n",
    "            Nasser Bourita et le ministre serbe des AE 20:45 L'Info en Face avec Salma Benaddou 20:45 Marocains \n",
    "            détenus à Myanmar : ouverture d'une +0638483920\n",
    "            \"\"\"]\n",
    "new_sentence = buildCustomData.input_sentence_processing(sentences[5])\n",
    "new_sentence"
   ]
  },
  {
   "cell_type": "code",
   "execution_count": 9,
   "id": "93dc3213-f5f9-4226-b6b4-9785ee67679b",
   "metadata": {},
   "outputs": [
    {
     "name": "stdout",
     "output_type": "stream",
     "text": [
      "['+212.522.48.91.00', '+212.522.20.30.48', '+212.522.48.91.58', '+212.522.26.88.60', '+0638483920']\n",
      "time execution is : 1.4933600425720215\n"
     ]
    }
   ],
   "source": [
    "start = time.time()\n",
    "phones = model.predict(new_sentence)\n",
    "end = time.time()\n",
    "print(phones)\n",
    "print(f\"time execution is : {end - start}\")"
   ]
  },
  {
   "cell_type": "code",
   "execution_count": null,
   "id": "3784799b-3e9d-496e-8597-07ba6001c8fe",
   "metadata": {},
   "outputs": [],
   "source": [
    "chunks = buildCustomData.extract_chunks(htmlContent)"
   ]
  }
 ],
 "metadata": {
  "kernelspec": {
   "display_name": "Python 3 (ipykernel)",
   "language": "python",
   "name": "python3"
  },
  "language_info": {
   "codemirror_mode": {
    "name": "ipython",
    "version": 3
   },
   "file_extension": ".py",
   "mimetype": "text/x-python",
   "name": "python",
   "nbconvert_exporter": "python",
   "pygments_lexer": "ipython3",
   "version": "3.11.6"
  }
 },
 "nbformat": 4,
 "nbformat_minor": 5
}
