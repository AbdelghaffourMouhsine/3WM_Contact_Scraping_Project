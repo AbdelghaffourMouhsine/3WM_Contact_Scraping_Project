{
 "cells": [
  {
   "cell_type": "code",
   "execution_count": 20,
   "id": "1570a8b3",
   "metadata": {},
   "outputs": [],
   "source": [
    "import csv\n",
    "import os\n",
    "import pandas as pd "
   ]
  },
  {
   "cell_type": "code",
   "execution_count": null,
   "id": "5d717217",
   "metadata": {},
   "outputs": [],
   "source": []
  },
  {
   "cell_type": "code",
   "execution_count": 10,
   "id": "07b45b4c-3fe5-46ec-a703-46d7cb0ebf87",
   "metadata": {},
   "outputs": [],
   "source": [
    "class BuildCustomData:\n",
    "    def __init__(self):\n",
    "        self.MIN_LENGTH_PHONE = 8\n",
    "        \n",
    "    def contains_letters(self, word):\n",
    "        return any(char.isalpha() for char in word)\n",
    "    \n",
    "    def contains_numbers(self, word):\n",
    "        return any(char.isdigit() for char in word)\n",
    "        \n",
    "    def count_numbers(self, word):\n",
    "        i=0\n",
    "        for char in word:\n",
    "            if char.isdigit():\n",
    "                i += 1\n",
    "        return i\n",
    "        \n",
    "    def word_process(self, word):\n",
    "        new_word = \"\"\n",
    "        if self.contains_letters(word) or (not self.contains_numbers(word)):\n",
    "            if word != \"\" and word[0].isdigit():\n",
    "                last_type = \"digit\"\n",
    "            elif word != \"\" and word[0].isalpha():\n",
    "                last_type = \"alpha\"\n",
    "            else:\n",
    "                last_type = \"other\"\n",
    "                \n",
    "            for char in word:\n",
    "                if (char.isdigit() and last_type == \"digit\") or (char.isalpha() and last_type == \"alpha\"): # the same type\n",
    "                    new_word += char\n",
    "                elif char.isdigit() and last_type != \"digit\":\n",
    "                    new_word += \" \" + char\n",
    "                    last_type = \"digit\"\n",
    "                elif char.isalpha() and last_type != \"alpha\":\n",
    "                    new_word += \" \" + char\n",
    "                    last_type = \"alpha\"\n",
    "                elif last_type == \"other\" and (char not in [\":\",\",\",\"،\",\".\"]):\n",
    "                    new_word += char\n",
    "                elif last_type == \"alpha\" and (char not in [\":\",\",\",\"،\",\".\"]):\n",
    "                    new_word += \" \" + char\n",
    "                    last_type = \"other\"\n",
    "                elif last_type == \"digit\" :\n",
    "                    new_word += char\n",
    "                    last_type = \"other\"\n",
    "        else:\n",
    "            new_word = word\n",
    "        return new_word.strip()\n",
    "        \n",
    "    def sentence_process(self, sentence) :\n",
    "        words = sentence.split(' ')\n",
    "        new_words = []\n",
    "        for word in words:\n",
    "            if word !=\"\":\n",
    "                new_word = self.word_process(word)\n",
    "                if new_word != '':\n",
    "                    for wrd in new_word.split(' '):\n",
    "                        new_words.append(wrd)\n",
    "            \n",
    "        new_sentence = \"\"\n",
    "        for index, word in enumerate(new_words):\n",
    "            if not self.contains_letters(word):  # word = number or [+ ( ) - . , ...]\n",
    "                if len(new_sentence) > 0 :\n",
    "                    if self.contains_letters(new_sentence.split(' ')[-1]) : # or (not self.contains_numbers(new_sentence.split(' ')[-1])) or (not self.contains_numbers(word))\n",
    "                        new_sentence += \" \"+word\n",
    "                    elif self.contains_numbers(new_sentence.split(' ')[-1]) and self.count_numbers(new_sentence.split(' ')[-1]) > self.MIN_LENGTH_PHONE and self.count_numbers(word) > self.MIN_LENGTH_PHONE :\n",
    "                        new_sentence += \" \"+word\n",
    "                    else:\n",
    "                        new_sentence += word\n",
    "                else:\n",
    "                    new_sentence += word\n",
    "            else :\n",
    "                if len(new_sentence) > 0 :\n",
    "                    new_sentence += \" \"+word\n",
    "                else :\n",
    "                    new_sentence += word\n",
    "        \n",
    "        return new_sentence.strip()\n",
    "        \n",
    "    def phone_process_sentence(self, sentence):\n",
    "        words = sentence.split(' ')\n",
    "        new_sentence = \"\"\n",
    "        for word in words:\n",
    "            new_word = word\n",
    "            if(self.contains_numbers(word) and len(word) > self.MIN_LENGTH_PHONE): # if word is a phone number\n",
    "                separators = list(set([char for char in word if not char.isdigit()]))\n",
    "                separators_min_len_elems = {}\n",
    "                for sep in separators:\n",
    "                    liste_elems = [elem for elem in word.split(sep) if elem.strip() != \"\"]\n",
    "                    liste_len_elems = [self.count_numbers(elem) for elem in liste_elems]\n",
    "                    test_result = all([l > self.MIN_LENGTH_PHONE for l in liste_len_elems]) and len(liste_len_elems)>1\n",
    "                    \n",
    "                    if test_result:\n",
    "                        separators_min_len_elems[sep] = min(liste_len_elems)\n",
    "                \n",
    "                if len(separators_min_len_elems) > 0:\n",
    "                    sep_has_max_min_len_elems = max(separators_min_len_elems, key=separators_min_len_elems.get)\n",
    "                    new_word = f\" {sep_has_max_min_len_elems} \".join([elem for elem in word.split(sep_has_max_min_len_elems) if elem.strip() != \"\"])\n",
    "            \n",
    "            new_sentence +=  \" \" + new_word\n",
    "        return new_sentence.strip()\n",
    "        \n",
    "    def get_label_sentence(self, sentence) :\n",
    "        words = sentence.split(' ')\n",
    "        labels = []\n",
    "        for word in words :\n",
    "            if self.contains_numbers(word) and ( not self.contains_letters(word)):\n",
    "                if self.count_numbers(word) > self.MIN_LENGTH_PHONE:\n",
    "                    if len([c for c in word if c == '/']) != 2 and len(set([c for c in word if c.isdigit()])) > 2: # not a date & have more than 2 number type\n",
    "                        label = 'PHONE'\n",
    "                    else:\n",
    "                        label = 'O'\n",
    "                else:\n",
    "                    label = 'O'\n",
    "            else :\n",
    "                label = 'O'\n",
    "            labels.append(label)\n",
    "        return labels\n",
    "\n",
    "    def clean_phone(self, phone_number):\n",
    "        start_index = -1;\n",
    "        end_index = -1\n",
    "        len_phone = len(phone_number)\n",
    "        for i, char in enumerate(phone_number):\n",
    "            if ( char.isdigit() or char in [\"+\",\"(\",\"-\"] ) and start_index == -1:\n",
    "                start_index = i\n",
    "                \n",
    "            if ( phone_number[len_phone-1 - i].isdigit() or phone_number[len_phone-1 - i] == \")\" ) and end_index == -1:\n",
    "                end_index = len_phone - i\n",
    "                \n",
    "            if start_index != -1 and end_index != -1:\n",
    "                break\n",
    "        return phone_number[start_index:end_index]\n",
    "        \n",
    "    def get_items(self, row, column_sentence_name = \"phrases\") :   \n",
    "        sentence_id = row['id']\n",
    "        sentence = row[column_sentence_name]\n",
    "        process_sentence = self.sentence_process(sentence)\n",
    "        process_sentence = self.phone_process_sentence(process_sentence)\n",
    "        label_sentence = self.get_label_sentence(process_sentence)\n",
    "        sentence_split = process_sentence.split()\n",
    "    \n",
    "        items = []\n",
    "    \n",
    "        for word, label in zip(sentence_split, label_sentence):\n",
    "            if label == \"PHONE\":\n",
    "                word = self.clean_phone(word)\n",
    "            word_info = {\n",
    "                'sentence_id': sentence_id,\n",
    "                'word': word.strip(),\n",
    "                'label': label\n",
    "            }\n",
    "            items.append(word_info)\n",
    "        \n",
    "        return items\n",
    "\n",
    "    def filter_items(self, items):\n",
    "        return [item for item in items if self.contains_numbers(item[\"word\"]) or self.contains_letters(item[\"word\"])]\n",
    "        \n",
    "    def update_label(self, file_name, new_label, row_index):\n",
    "        df = pd.read_csv(file_name)\n",
    "        if row_index < 0 or row_index >= len(df):\n",
    "            print(\"L'indice de ligne est invalide.\")\n",
    "        df.loc[row_index, 'label'] = new_label\n",
    "        if new_label == \"PHONE\":\n",
    "            word = df.loc[row_index, 'word']\n",
    "            word = self.clean_phone(word)\n",
    "            df.loc[row_index, 'word'] = word\n",
    "        df.to_csv(file_name, index=False)\n",
    "        print(\"La valeur de 'label' a été mise à jour avec succès.\")\n",
    "        \n",
    "    def input_sentence_processing(self, sentence):\n",
    "        process_sentence = self.sentence_process(sentence)\n",
    "        process_sentence = self.phone_process_sentence(process_sentence)\n",
    "        words = process_sentence.split()\n",
    "        new_words = []\n",
    "        for word in words:\n",
    "            if self.count_numbers(word) > self.MIN_LENGTH_PHONE:\n",
    "                word = self.clean_phone(word)\n",
    "            if self.contains_numbers(word) or self.contains_letters(word):\n",
    "                new_words.append(word)\n",
    "        \n",
    "        return \" \".join(new_words)\n",
    "        "
   ]
  },
  {
   "cell_type": "code",
   "execution_count": null,
   "id": "46837d60",
   "metadata": {},
   "outputs": [],
   "source": []
  },
  {
   "cell_type": "code",
   "execution_count": 11,
   "id": "28b1550b",
   "metadata": {},
   "outputs": [],
   "source": [
    "sentences = [\n",
    "    \"للمزيد من المعلومات، الفاكس 356351257/363813833\",\n",
    "    \"اتصل بنا على الرقم +212 5 44 55 66 77\",\n",
    "    \"رقم الهاتف : +33 1 23 .45 67 89\",\n",
    "    \"Pour contacter notre service clientèle, veuillez composer le 07 00-51 45 27 , hg yt\",\n",
    "    \"Tele0566 44 33 22 ,\",\n",
    "    \"Pour des conseils, appelez au)+ ( 226) 33-44-55-66-\",\n",
    "    \"للحصول على مساعدة، اتصل بـ(069) 01 23 45.\"\n",
    "]"
   ]
  },
  {
   "cell_type": "code",
   "execution_count": 12,
   "id": "015641ec",
   "metadata": {},
   "outputs": [],
   "source": [
    "buildCustomData = BuildCustomData()\n",
    "sentence = sentences[5]"
   ]
  },
  {
   "cell_type": "code",
   "execution_count": 13,
   "id": "2e2d4cdc",
   "metadata": {},
   "outputs": [
    {
     "data": {
      "text/plain": [
       "'Pour des conseils appelez au )+(226)33-44-55-66-'"
      ]
     },
     "execution_count": 13,
     "metadata": {},
     "output_type": "execute_result"
    }
   ],
   "source": [
    "res = buildCustomData.sentence_process(sentence)\n",
    "res"
   ]
  },
  {
   "cell_type": "code",
   "execution_count": 14,
   "id": "c3812608-4c57-4c64-94b6-4cb9adca88c5",
   "metadata": {},
   "outputs": [
    {
     "name": "stdout",
     "output_type": "stream",
     "text": [
      "#a)^)+(226)33-44-55-66-'*\n",
      "+(226)33-44-55-66\n"
     ]
    }
   ],
   "source": [
    "phone = \"#a)^)+(226)33-44-55-66-'*\"\n",
    "print(phone)\n",
    "print(buildCustomData.clean_phone(phone))"
   ]
  },
  {
   "cell_type": "code",
   "execution_count": 15,
   "id": "64aa2f83-465b-4354-b9b9-24d79db6acb5",
   "metadata": {},
   "outputs": [
    {
     "data": {
      "text/plain": [
       "'Pour des conseils appelez au )+(226)33-44-55-66-'"
      ]
     },
     "execution_count": 15,
     "metadata": {},
     "output_type": "execute_result"
    }
   ],
   "source": [
    "res = buildCustomData.phone_process_sentence(res)\n",
    "res"
   ]
  },
  {
   "cell_type": "code",
   "execution_count": 16,
   "id": "11716015-9c3b-4a26-8f58-a555d493408b",
   "metadata": {},
   "outputs": [
    {
     "data": {
      "text/plain": [
       "['O', 'O', 'O', 'O', 'O', 'PHONE']"
      ]
     },
     "execution_count": 16,
     "metadata": {},
     "output_type": "execute_result"
    }
   ],
   "source": [
    "res = buildCustomData.get_label_sentence(res)\n",
    "res"
   ]
  },
  {
   "cell_type": "code",
   "execution_count": 17,
   "id": "38fa9d16-86c8-43b8-a0b5-8c7dd137a8f7",
   "metadata": {},
   "outputs": [
    {
     "data": {
      "text/plain": [
       "[{'sentence_id': 1, 'word': 'Pour', 'label': 'O'},\n",
       " {'sentence_id': 1, 'word': 'des', 'label': 'O'},\n",
       " {'sentence_id': 1, 'word': 'conseils', 'label': 'O'},\n",
       " {'sentence_id': 1, 'word': 'appelez', 'label': 'O'},\n",
       " {'sentence_id': 1, 'word': 'au', 'label': 'O'},\n",
       " {'sentence_id': 1, 'word': '+(226)33-44-55-66', 'label': 'PHONE'}]"
      ]
     },
     "execution_count": 17,
     "metadata": {},
     "output_type": "execute_result"
    }
   ],
   "source": [
    "text=\"\"\n",
    "d ={\"id\":1,\"phrases\":sentence}\n",
    "items = buildCustomData.get_items(d)\n",
    "items"
   ]
  },
  {
   "cell_type": "code",
   "execution_count": 18,
   "id": "ed256802-1d45-4bb2-92c3-4c226d82b338",
   "metadata": {},
   "outputs": [
    {
     "data": {
      "text/plain": [
       "[{'sentence_id': 1, 'word': 'Pour', 'label': 'O'},\n",
       " {'sentence_id': 1, 'word': 'des', 'label': 'O'},\n",
       " {'sentence_id': 1, 'word': 'conseils', 'label': 'O'},\n",
       " {'sentence_id': 1, 'word': 'appelez', 'label': 'O'},\n",
       " {'sentence_id': 1, 'word': 'au', 'label': 'O'},\n",
       " {'sentence_id': 1, 'word': '+(226)33-44-55-66', 'label': 'PHONE'}]"
      ]
     },
     "execution_count": 18,
     "metadata": {},
     "output_type": "execute_result"
    }
   ],
   "source": [
    "buildCustomData.filter_items(items)"
   ]
  },
  {
   "cell_type": "code",
   "execution_count": 19,
   "id": "32824202-88fa-49d5-9ab6-524a037bb18c",
   "metadata": {},
   "outputs": [
    {
     "data": {
      "text/plain": [
       "'Pour des conseils appelez au +(226)33-44-55-66'"
      ]
     },
     "execution_count": 19,
     "metadata": {},
     "output_type": "execute_result"
    }
   ],
   "source": [
    "buildCustomData.input_sentence_processing(sentence)"
   ]
  },
  {
   "cell_type": "code",
   "execution_count": 73,
   "id": "50679ab1",
   "metadata": {},
   "outputs": [
    {
     "name": "stdout",
     "output_type": "stream",
     "text": [
      "[{'sentence_id': 1, 'word': 'رقم', 'label': 'O'}, {'sentence_id': 1, 'word': 'الهاتف', 'label': 'O'}, {'sentence_id': 1, 'word': '0522270033', 'label': 'PHONE'}]\n"
     ]
    }
   ],
   "source": [
    "for idx, row in df.iterrows():\n",
    "    items = buildCustomData.get_items(row)\n",
    "    print(items)\n",
    "    break"
   ]
  },
  {
   "cell_type": "code",
   "execution_count": null,
   "id": "b92fd60f-c563-4bcb-a53f-b0ce3eaaef14",
   "metadata": {},
   "outputs": [],
   "source": []
  },
  {
   "cell_type": "code",
   "execution_count": 75,
   "id": "99c1a63c",
   "metadata": {},
   "outputs": [],
   "source": [
    "class ItemStorage:\n",
    "    def __init__(self, file_path):\n",
    "        self.file_path = f\"{file_path}.csv\"\n",
    "        self.fieldnames = [\"sentence_id\", \"word\", \"label\"]\n",
    "        self.file = open(self.file_path, 'a', newline='', encoding='utf-8-sig')\n",
    "        self.writer = csv.DictWriter(self.file, fieldnames=self.fieldnames)\n",
    "        \n",
    "        # Check if the file is empty, then write the header\n",
    "        if self.file.tell() == 0:\n",
    "            self.writer.writeheader()\n",
    "\n",
    "    def insert_item(self, item):\n",
    "        data = {\n",
    "            'sentence_id': item['sentence_id'],\n",
    "            'word': item['word'],\n",
    "            'label': item['label']\n",
    "        }\n",
    "\n",
    "        self.writer.writerow(data)\n",
    "    \n",
    "    def insert_items(self, items) :\n",
    "        for item in items :\n",
    "            self.insert_item(item)\n",
    "\n",
    "    def close_file(self):\n",
    "        self.file.close()"
   ]
  },
  {
   "cell_type": "code",
   "execution_count": 21,
   "id": "ad47a1dc",
   "metadata": {},
   "outputs": [],
   "source": [
    "######################################################## main ###########################################################\n",
    "#########################################################################################################################\n",
    "\n",
    "itemStorage = ItemStorage(\"items_3\")\n",
    "buildCustomData = BuildCustomData()\n",
    "\n",
    "for idx, row in df.iterrows():\n",
    "    items = buildCustomData.get_items(row)\n",
    "    items = buildCustomData.filter_items(items)\n",
    "    itemStorage.insert_items(items)\n",
    "\n",
    "itemStorage.close_file()"
   ]
  },
  {
   "cell_type": "code",
   "execution_count": 14,
   "id": "84c2862d",
   "metadata": {},
   "outputs": [],
   "source": []
  },
  {
   "cell_type": "code",
   "execution_count": 62,
   "id": "6bd17779",
   "metadata": {},
   "outputs": [
    {
     "data": {
      "text/html": [
       "<div>\n",
       "<style scoped>\n",
       "    .dataframe tbody tr th:only-of-type {\n",
       "        vertical-align: middle;\n",
       "    }\n",
       "\n",
       "    .dataframe tbody tr th {\n",
       "        vertical-align: top;\n",
       "    }\n",
       "\n",
       "    .dataframe thead th {\n",
       "        text-align: right;\n",
       "    }\n",
       "</style>\n",
       "<table border=\"1\" class=\"dataframe\">\n",
       "  <thead>\n",
       "    <tr style=\"text-align: right;\">\n",
       "      <th></th>\n",
       "      <th>id</th>\n",
       "      <th>sentences</th>\n",
       "    </tr>\n",
       "  </thead>\n",
       "  <tbody>\n",
       "    <tr>\n",
       "      <th>0</th>\n",
       "      <td>1</td>\n",
       "      <td>Nous Contacter - La Vie éco Accueil Au Royaume...</td>\n",
       "    </tr>\n",
       "    <tr>\n",
       "      <th>1</th>\n",
       "      <td>2</td>\n",
       "      <td>هيأة التحرير – كيفاش آخر ما كاينديرها في بالكر...</td>\n",
       "    </tr>\n",
       "    <tr>\n",
       "      <th>2</th>\n",
       "      <td>3</td>\n",
       "      <td>Contact - L'Observateur Contact - L'observateu...</td>\n",
       "    </tr>\n",
       "    <tr>\n",
       "      <th>3</th>\n",
       "      <td>4</td>\n",
       "      <td>للإشهار – كيفاش آخر ما كاينديرها في بالكرياضةم...</td>\n",
       "    </tr>\n",
       "    <tr>\n",
       "      <th>4</th>\n",
       "      <td>5</td>\n",
       "      <td>Website feedback | HIT RADIO Skip to main cont...</td>\n",
       "    </tr>\n",
       "    <tr>\n",
       "      <th>...</th>\n",
       "      <td>...</td>\n",
       "      <td>...</td>\n",
       "    </tr>\n",
       "    <tr>\n",
       "      <th>256</th>\n",
       "      <td>257</td>\n",
       "      <td>East Bay Times account password? Reset it here...</td>\n",
       "    </tr>\n",
       "    <tr>\n",
       "      <th>257</th>\n",
       "      <td>258</td>\n",
       "      <td>is published. Submit a letter to the Mercury N...</td>\n",
       "    </tr>\n",
       "    <tr>\n",
       "      <th>258</th>\n",
       "      <td>259</td>\n",
       "      <td>– Digital 408-271-3747 rkeith@bayareanewsgroup...</td>\n",
       "    </tr>\n",
       "    <tr>\n",
       "      <th>259</th>\n",
       "      <td>260</td>\n",
       "      <td>Judith Contra Costa County editor 925-779-7178...</td>\n",
       "    </tr>\n",
       "    <tr>\n",
       "      <th>260</th>\n",
       "      <td>261</td>\n",
       "      <td>editor 408-590-0190 dsugano@bayareanewsgroup.c...</td>\n",
       "    </tr>\n",
       "  </tbody>\n",
       "</table>\n",
       "<p>261 rows × 2 columns</p>\n",
       "</div>"
      ],
      "text/plain": [
       "      id                                          sentences\n",
       "0      1  Nous Contacter - La Vie éco Accueil Au Royaume...\n",
       "1      2  هيأة التحرير – كيفاش آخر ما كاينديرها في بالكر...\n",
       "2      3  Contact - L'Observateur Contact - L'observateu...\n",
       "3      4  للإشهار – كيفاش آخر ما كاينديرها في بالكرياضةم...\n",
       "4      5  Website feedback | HIT RADIO Skip to main cont...\n",
       "..   ...                                                ...\n",
       "256  257  East Bay Times account password? Reset it here...\n",
       "257  258  is published. Submit a letter to the Mercury N...\n",
       "258  259  – Digital 408-271-3747 rkeith@bayareanewsgroup...\n",
       "259  260  Judith Contra Costa County editor 925-779-7178...\n",
       "260  261  editor 408-590-0190 dsugano@bayareanewsgroup.c...\n",
       "\n",
       "[261 rows x 2 columns]"
      ]
     },
     "execution_count": 62,
     "metadata": {},
     "output_type": "execute_result"
    }
   ],
   "source": [
    "df = pd.read_csv(\"sentences_from_web_2.csv\")\n",
    "df"
   ]
  },
  {
   "cell_type": "code",
   "execution_count": 63,
   "id": "952606aa-1db2-4e98-9861-162e0a2338b7",
   "metadata": {},
   "outputs": [],
   "source": [
    "itemStorage = ItemStorage(\"items_sentences_from_web_2_1\")\n",
    "buildCustomData = BuildCustomData()\n",
    "\n",
    "for idx, row in df.iterrows():\n",
    "    items = buildCustomData.get_items(row, column_sentence_name=\"sentences\")\n",
    "    items = buildCustomData.filter_items(items)\n",
    "    itemStorage.insert_items(items)\n",
    "\n",
    "itemStorage.close_file()"
   ]
  },
  {
   "cell_type": "code",
   "execution_count": null,
   "id": "8d66ac06-d903-42ec-a350-205ad434a780",
   "metadata": {},
   "outputs": [],
   "source": []
  },
  {
   "cell_type": "code",
   "execution_count": 70,
   "id": "016bb48b-9279-46ca-aae8-2168a028cc53",
   "metadata": {},
   "outputs": [],
   "source": [
    "to_O = [1851, 1858, 1865, 1872, 2188, 5392, 5533, 8242, 12723, 12726, 19551,\n",
    "        22812, 26106, 31070, 32751, 36871, 37873, 38202, 38401, 38419, 38433,\n",
    "        38451, 38475, 38499, 38523, 38543, 38572, 38580, 38594, 38614, 38639, 38661, 38690,\n",
    "        39224, 39819, 46327, 46612, 49296, 50708, 51175, 51678, 53970, 58263, 59551]\n",
    "\n",
    "to_PHONE = [98]"
   ]
  },
  {
   "cell_type": "code",
   "execution_count": null,
   "id": "2559acfa-12bd-4279-b9b7-fa98ec1e89ae",
   "metadata": {},
   "outputs": [],
   "source": [
    "prob = [98, ]\n",
    "        "
   ]
  },
  {
   "cell_type": "code",
   "execution_count": null,
   "id": "bf2bfa2d-f01b-42d0-b2ed-54a002195fae",
   "metadata": {
    "scrolled": true
   },
   "outputs": [],
   "source": [
    "buildCustomData = BuildCustomData()\n",
    "for index in to_O:\n",
    "    buildCustomData.update_label(\"items_sentences_from_web_2_1.csv\", \"O\", index -1)"
   ]
  },
  {
   "cell_type": "code",
   "execution_count": 71,
   "id": "5fd90640-213d-4d0f-8ef1-06acc556e825",
   "metadata": {},
   "outputs": [
    {
     "name": "stdout",
     "output_type": "stream",
     "text": [
      "La valeur de 'label' a été mise à jour avec succès.\n"
     ]
    }
   ],
   "source": [
    "for index in to_PHONE:\n",
    "    buildCustomData.update_label(\"items_sentences_from_web_2_1.csv\", \"PHONE\", index -1)"
   ]
  },
  {
   "cell_type": "code",
   "execution_count": null,
   "id": "d98af3f5-5cc4-4ef8-8627-1427eebf4e15",
   "metadata": {},
   "outputs": [],
   "source": []
  },
  {
   "cell_type": "code",
   "execution_count": 76,
   "id": "2c37639d-b65e-48f5-9d6f-6f1e8546fa12",
   "metadata": {},
   "outputs": [
    {
     "data": {
      "text/html": [
       "<div>\n",
       "<style scoped>\n",
       "    .dataframe tbody tr th:only-of-type {\n",
       "        vertical-align: middle;\n",
       "    }\n",
       "\n",
       "    .dataframe tbody tr th {\n",
       "        vertical-align: top;\n",
       "    }\n",
       "\n",
       "    .dataframe thead th {\n",
       "        text-align: right;\n",
       "    }\n",
       "</style>\n",
       "<table border=\"1\" class=\"dataframe\">\n",
       "  <thead>\n",
       "    <tr style=\"text-align: right;\">\n",
       "      <th></th>\n",
       "      <th>id</th>\n",
       "      <th>phrases</th>\n",
       "    </tr>\n",
       "  </thead>\n",
       "  <tbody>\n",
       "    <tr>\n",
       "      <th>0</th>\n",
       "      <td>1</td>\n",
       "      <td>رقم الهاتف: 0522270033</td>\n",
       "    </tr>\n",
       "    <tr>\n",
       "      <th>1</th>\n",
       "      <td>2</td>\n",
       "      <td>للاتصال بنا هاتفياً، يمكنكم الاتصال على الرقم:...</td>\n",
       "    </tr>\n",
       "    <tr>\n",
       "      <th>2</th>\n",
       "      <td>3</td>\n",
       "      <td>Tél : 0522221859 - Email :contact@geomedia.ma</td>\n",
       "    </tr>\n",
       "    <tr>\n",
       "      <th>3</th>\n",
       "      <td>4</td>\n",
       "      <td>Appelez nous au 0522221883 pour plus d’informa...</td>\n",
       "    </tr>\n",
       "    <tr>\n",
       "      <th>4</th>\n",
       "      <td>5</td>\n",
       "      <td>Pour de l’assistance, appelez-nous au 0522213322</td>\n",
       "    </tr>\n",
       "    <tr>\n",
       "      <th>...</th>\n",
       "      <td>...</td>\n",
       "      <td>...</td>\n",
       "    </tr>\n",
       "    <tr>\n",
       "      <th>995</th>\n",
       "      <td>996</td>\n",
       "      <td>Pour obtenir des détails, appelez le (+212)706...</td>\n",
       "    </tr>\n",
       "    <tr>\n",
       "      <th>996</th>\n",
       "      <td>997</td>\n",
       "      <td>إذا كانت لديك أسئلة، اتصل على (+212)707890123</td>\n",
       "    </tr>\n",
       "    <tr>\n",
       "      <th>997</th>\n",
       "      <td>998</td>\n",
       "      <td>Pour toute assistance, appelez le (+212)708901234</td>\n",
       "    </tr>\n",
       "    <tr>\n",
       "      <th>998</th>\n",
       "      <td>999</td>\n",
       "      <td>للحصول على دعم سريع، اتصل على (+212)709012345</td>\n",
       "    </tr>\n",
       "    <tr>\n",
       "      <th>999</th>\n",
       "      <td>1000</td>\n",
       "      <td>Pour parler à un conseiller, appelez le (+212)...</td>\n",
       "    </tr>\n",
       "  </tbody>\n",
       "</table>\n",
       "<p>1000 rows × 2 columns</p>\n",
       "</div>"
      ],
      "text/plain": [
       "       id                                            phrases\n",
       "0       1                             رقم الهاتف: 0522270033\n",
       "1       2  للاتصال بنا هاتفياً، يمكنكم الاتصال على الرقم:...\n",
       "2       3      Tél : 0522221859 - Email :contact@geomedia.ma\n",
       "3       4  Appelez nous au 0522221883 pour plus d’informa...\n",
       "4       5   Pour de l’assistance, appelez-nous au 0522213322\n",
       "..    ...                                                ...\n",
       "995   996  Pour obtenir des détails, appelez le (+212)706...\n",
       "996   997      إذا كانت لديك أسئلة، اتصل على (+212)707890123\n",
       "997   998  Pour toute assistance, appelez le (+212)708901234\n",
       "998   999      للحصول على دعم سريع، اتصل على (+212)709012345\n",
       "999  1000  Pour parler à un conseiller, appelez le (+212)...\n",
       "\n",
       "[1000 rows x 2 columns]"
      ]
     },
     "execution_count": 76,
     "metadata": {},
     "output_type": "execute_result"
    }
   ],
   "source": [
    "df = pd.read_csv(\"sentences.csv\")\n",
    "df"
   ]
  },
  {
   "cell_type": "code",
   "execution_count": 77,
   "id": "d435c710-bd88-49df-bbae-716146e18b38",
   "metadata": {},
   "outputs": [],
   "source": [
    "itemStorage = ItemStorage(\"items_sentences_from_web_2_1\")\n",
    "buildCustomData = BuildCustomData()\n",
    "\n",
    "sentence_id = 262\n",
    "\n",
    "for idx, row in df.iterrows():\n",
    "    items = buildCustomData.get_items(row)\n",
    "    items = buildCustomData.filter_items(items)\n",
    "    for item in items :\n",
    "        item['sentence_id'] = sentence_id\n",
    "        itemStorage.insert_item(item)\n",
    "    sentence_id += 1\n",
    "\n",
    "itemStorage.close_file()"
   ]
  },
  {
   "cell_type": "code",
   "execution_count": 21,
   "id": "fcdbb44b-8966-4146-8cc9-fc8eaaf9f8fc",
   "metadata": {},
   "outputs": [
    {
     "data": {
      "text/html": [
       "<div>\n",
       "<style scoped>\n",
       "    .dataframe tbody tr th:only-of-type {\n",
       "        vertical-align: middle;\n",
       "    }\n",
       "\n",
       "    .dataframe tbody tr th {\n",
       "        vertical-align: top;\n",
       "    }\n",
       "\n",
       "    .dataframe thead th {\n",
       "        text-align: right;\n",
       "    }\n",
       "</style>\n",
       "<table border=\"1\" class=\"dataframe\">\n",
       "  <thead>\n",
       "    <tr style=\"text-align: right;\">\n",
       "      <th></th>\n",
       "      <th>sentence_id</th>\n",
       "      <th>word</th>\n",
       "      <th>label</th>\n",
       "    </tr>\n",
       "  </thead>\n",
       "  <tbody>\n",
       "    <tr>\n",
       "      <th>0</th>\n",
       "      <td>1</td>\n",
       "      <td>Nous</td>\n",
       "      <td>O</td>\n",
       "    </tr>\n",
       "    <tr>\n",
       "      <th>1</th>\n",
       "      <td>1</td>\n",
       "      <td>Contacter</td>\n",
       "      <td>O</td>\n",
       "    </tr>\n",
       "    <tr>\n",
       "      <th>2</th>\n",
       "      <td>1</td>\n",
       "      <td>La</td>\n",
       "      <td>O</td>\n",
       "    </tr>\n",
       "    <tr>\n",
       "      <th>3</th>\n",
       "      <td>1</td>\n",
       "      <td>Vie</td>\n",
       "      <td>O</td>\n",
       "    </tr>\n",
       "    <tr>\n",
       "      <th>4</th>\n",
       "      <td>1</td>\n",
       "      <td>éco</td>\n",
       "      <td>O</td>\n",
       "    </tr>\n",
       "    <tr>\n",
       "      <th>...</th>\n",
       "      <td>...</td>\n",
       "      <td>...</td>\n",
       "      <td>...</td>\n",
       "    </tr>\n",
       "    <tr>\n",
       "      <th>71188</th>\n",
       "      <td>1261</td>\n",
       "      <td>un</td>\n",
       "      <td>O</td>\n",
       "    </tr>\n",
       "    <tr>\n",
       "      <th>71189</th>\n",
       "      <td>1261</td>\n",
       "      <td>conseiller</td>\n",
       "      <td>O</td>\n",
       "    </tr>\n",
       "    <tr>\n",
       "      <th>71190</th>\n",
       "      <td>1261</td>\n",
       "      <td>appelez</td>\n",
       "      <td>O</td>\n",
       "    </tr>\n",
       "    <tr>\n",
       "      <th>71191</th>\n",
       "      <td>1261</td>\n",
       "      <td>le</td>\n",
       "      <td>O</td>\n",
       "    </tr>\n",
       "    <tr>\n",
       "      <th>71192</th>\n",
       "      <td>1261</td>\n",
       "      <td>(+212)710123456</td>\n",
       "      <td>PHONE</td>\n",
       "    </tr>\n",
       "  </tbody>\n",
       "</table>\n",
       "<p>71193 rows × 3 columns</p>\n",
       "</div>"
      ],
      "text/plain": [
       "       sentence_id             word  label\n",
       "0                1             Nous      O\n",
       "1                1        Contacter      O\n",
       "2                1               La      O\n",
       "3                1              Vie      O\n",
       "4                1              éco      O\n",
       "...            ...              ...    ...\n",
       "71188         1261               un      O\n",
       "71189         1261       conseiller      O\n",
       "71190         1261          appelez      O\n",
       "71191         1261               le      O\n",
       "71192         1261  (+212)710123456  PHONE\n",
       "\n",
       "[71193 rows x 3 columns]"
      ]
     },
     "execution_count": 21,
     "metadata": {},
     "output_type": "execute_result"
    }
   ],
   "source": [
    "df = pd.read_csv(\"items_sentences_from_web_2_1.csv\")\n",
    "df"
   ]
  },
  {
   "cell_type": "code",
   "execution_count": 25,
   "id": "4d3a0afe-ac23-4159-80be-20a09f3da623",
   "metadata": {},
   "outputs": [
    {
     "data": {
      "text/plain": [
       "label\n",
       "O        69700\n",
       "PHONE     1493\n",
       "Name: count, dtype: int64"
      ]
     },
     "execution_count": 25,
     "metadata": {},
     "output_type": "execute_result"
    }
   ],
   "source": [
    "df[\"label\"].value_counts()"
   ]
  },
  {
   "cell_type": "code",
   "execution_count": null,
   "id": "477bdeb4-4ddd-451d-ab25-4e0fb81a000d",
   "metadata": {},
   "outputs": [],
   "source": []
  }
 ],
 "metadata": {
  "kernelspec": {
   "display_name": "Python 3 (ipykernel)",
   "language": "python",
   "name": "python3"
  },
  "language_info": {
   "codemirror_mode": {
    "name": "ipython",
    "version": 3
   },
   "file_extension": ".py",
   "mimetype": "text/x-python",
   "name": "python",
   "nbconvert_exporter": "python",
   "pygments_lexer": "ipython3",
   "version": "3.11.6"
  }
 },
 "nbformat": 4,
 "nbformat_minor": 5
}
